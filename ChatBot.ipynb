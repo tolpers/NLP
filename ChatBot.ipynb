{
  "nbformat": 4,
  "nbformat_minor": 0,
  "metadata": {
    "colab": {
      "name": "ChatBot Data.ipynb",
      "provenance": [],
      "collapsed_sections": []
    },
    "kernelspec": {
      "name": "python3",
      "display_name": "Python 3"
    },
    "language_info": {
      "name": "python"
    },
    "accelerator": "GPU",
    "gpuClass": "standard"
  },
  "cells": [
    {
      "cell_type": "markdown",
      "source": [
        "**Задание**\n",
        "\n",
        "    продумать написать тему курсового проекта\n",
        "    подготовить данные для обучения\n",
        "    продумать интенты на которые вы будете обучаться\n",
        "\n",
        "**Для сдачи задания необходимо написать**\n",
        "\n",
        "    на какую тему ваш бот будет общаться (на каких датасетах планируете обучать модели)\n",
        "    написать на какие интенты вы будете обучать бота\n"
      ],
      "metadata": {
        "id": "wzeNBbSYyN_k"
      }
    },
    {
      "cell_type": "markdown",
      "source": [
        "# Решение"
      ],
      "metadata": {
        "id": "ot8VM53s5re1"
      }
    },
    {
      "cell_type": "markdown",
      "source": [
        "**Lord of the rings ChatBot**\n",
        "\n",
        "`Задача чат-бота - общаться с людьми в тематике Властелина колец. Также чат-бот может сыграть в игру типо простого \"Акинатора\" - угадывать персонажа, которого загадал пользователь. Помимо этого бот может придумывать (генерировать) имена в стилистике Властелина колец.`\n",
        "\n",
        "*Интенты:*\n",
        "1. Болталка: чат-бот ведет диалог в стилистике Властелина колец\n",
        "2. Игра \"Угадай персонажа\"\n",
        "3. Генератор *имен*\n",
        "\n"
      ],
      "metadata": {
        "id": "hrIvwcssyRa5"
      }
    },
    {
      "cell_type": "code",
      "source": [
        "# Загружаем библиотеки\n",
        "! pip install pymorphy2\n",
        "! pip install annoy\n",
        "! pip install stop_words\n",
        "\n",
        "import pandas as pd\n",
        "import numpy as np\n",
        "import random\n",
        "from tqdm import tqdm\n",
        "import string\n",
        "\n",
        "import io\n",
        "import chardet\n",
        "import os\n",
        "import codecs\n",
        "\n",
        "import gensim.downloader as api\n",
        "from gensim.models import Word2Vec, FastText\n",
        "from pymorphy2 import MorphAnalyzer\n",
        "import annoy\n",
        "import gensim.models\n",
        "\n",
        "from stop_words import get_stop_words\n",
        "import nltk\n",
        "import nltk.data\n",
        "from nltk.corpus import stopwords\n",
        "from nltk.tokenize import word_tokenize\n",
        "\n",
        "nltk.download('stopwords')\n",
        "nltk.download('punkt')\n",
        "\n",
        "!pip install wikipedia\n",
        "\n",
        "import time\n",
        "import wikipedia\n",
        "wikipedia.set_lang(\"ru\")"
      ],
      "metadata": {
        "colab": {
          "base_uri": "https://localhost:8080/"
        },
        "id": "aVYiudRzEje-",
        "outputId": "3646948d-b084-4fa3-b7f4-644fe2799fe2"
      },
      "execution_count": 15,
      "outputs": [
        {
          "output_type": "stream",
          "name": "stdout",
          "text": [
            "Looking in indexes: https://pypi.org/simple, https://us-python.pkg.dev/colab-wheels/public/simple/\n",
            "Requirement already satisfied: pymorphy2 in /usr/local/lib/python3.7/dist-packages (0.9.1)\n",
            "Requirement already satisfied: dawg-python>=0.7.1 in /usr/local/lib/python3.7/dist-packages (from pymorphy2) (0.7.2)\n",
            "Requirement already satisfied: docopt>=0.6 in /usr/local/lib/python3.7/dist-packages (from pymorphy2) (0.6.2)\n",
            "Requirement already satisfied: pymorphy2-dicts-ru<3.0,>=2.4 in /usr/local/lib/python3.7/dist-packages (from pymorphy2) (2.4.417127.4579844)\n",
            "Looking in indexes: https://pypi.org/simple, https://us-python.pkg.dev/colab-wheels/public/simple/\n",
            "Requirement already satisfied: annoy in /usr/local/lib/python3.7/dist-packages (1.17.1)\n",
            "Looking in indexes: https://pypi.org/simple, https://us-python.pkg.dev/colab-wheels/public/simple/\n",
            "Requirement already satisfied: stop_words in /usr/local/lib/python3.7/dist-packages (2018.7.23)\n"
          ]
        },
        {
          "output_type": "stream",
          "name": "stderr",
          "text": [
            "[nltk_data] Downloading package stopwords to /root/nltk_data...\n",
            "[nltk_data]   Package stopwords is already up-to-date!\n",
            "[nltk_data] Downloading package punkt to /root/nltk_data...\n",
            "[nltk_data]   Package punkt is already up-to-date!\n"
          ]
        },
        {
          "output_type": "stream",
          "name": "stdout",
          "text": [
            "Looking in indexes: https://pypi.org/simple, https://us-python.pkg.dev/colab-wheels/public/simple/\n",
            "Collecting wikipedia\n",
            "  Downloading wikipedia-1.4.0.tar.gz (27 kB)\n",
            "Requirement already satisfied: beautifulsoup4 in /usr/local/lib/python3.7/dist-packages (from wikipedia) (4.6.3)\n",
            "Requirement already satisfied: requests<3.0.0,>=2.0.0 in /usr/local/lib/python3.7/dist-packages (from wikipedia) (2.23.0)\n",
            "Requirement already satisfied: chardet<4,>=3.0.2 in /usr/local/lib/python3.7/dist-packages (from requests<3.0.0,>=2.0.0->wikipedia) (3.0.4)\n",
            "Requirement already satisfied: certifi>=2017.4.17 in /usr/local/lib/python3.7/dist-packages (from requests<3.0.0,>=2.0.0->wikipedia) (2022.6.15)\n",
            "Requirement already satisfied: urllib3!=1.25.0,!=1.25.1,<1.26,>=1.21.1 in /usr/local/lib/python3.7/dist-packages (from requests<3.0.0,>=2.0.0->wikipedia) (1.24.3)\n",
            "Requirement already satisfied: idna<3,>=2.5 in /usr/local/lib/python3.7/dist-packages (from requests<3.0.0,>=2.0.0->wikipedia) (2.10)\n",
            "Building wheels for collected packages: wikipedia\n",
            "  Building wheel for wikipedia (setup.py) ... \u001b[?25l\u001b[?25hdone\n",
            "  Created wheel for wikipedia: filename=wikipedia-1.4.0-py3-none-any.whl size=11695 sha256=4c4acc70f978c1c0a5c948dcf28ae57320c101c0b3ee5f9fc5fad45b87fd39a0\n",
            "  Stored in directory: /root/.cache/pip/wheels/15/93/6d/5b2c68b8a64c7a7a04947b4ed6d89fb557dcc6bc27d1d7f3ba\n",
            "Successfully built wikipedia\n",
            "Installing collected packages: wikipedia\n",
            "Successfully installed wikipedia-1.4.0\n"
          ]
        }
      ]
    },
    {
      "cell_type": "markdown",
      "source": [
        "**Болталка: чат-бот ведет диалог в стилистике Властелина колец**"
      ],
      "metadata": {
        "id": "yiQDTCjWW8Yu"
      }
    },
    {
      "cell_type": "markdown",
      "source": [
        "Для первой задачи - обучим нейросеть на тексте Властелина колец. Пользователь пишет сообщение в чат-бот, модель ищет максимально похожий текст в столбце \"question\" и выдает ответ с минимальной дистанцией. Если похожего ответа нет, чат бот выдает ответ из вики"
      ],
      "metadata": {
        "id": "tmE58c1r5WMH"
      }
    },
    {
      "cell_type": "code",
      "source": [
        "# Загружаем данные и сразу преобразуем их в токены\n",
        "tokenizer1 = nltk.data.load('tokenizers/punkt/russian.pickle')\n",
        "data = open(\"/content/lotr.txt\").read()\n",
        "\n",
        "\n",
        "# Предложения вопросы\n",
        "tokens_q = tokenizer1.tokenize(data)\n",
        "print(len(tokens_q)), print(tokens_q[:3])"
      ],
      "metadata": {
        "colab": {
          "base_uri": "https://localhost:8080/"
        },
        "id": "bJ1H_2GDYXVQ",
        "outputId": "19fae78d-1999-4637-a43c-c23ab8a6555b"
      },
      "execution_count": 16,
      "outputs": [
        {
          "output_type": "stream",
          "name": "stdout",
          "text": [
            "5204\n",
            "['Мир изменился.', 'Я чувствую это в воде, чувствую в земле, ощущаю в воздухе.', 'Многое из того, что было - ушло.']\n"
          ]
        },
        {
          "output_type": "execute_result",
          "data": {
            "text/plain": [
              "(None, None)"
            ]
          },
          "metadata": {},
          "execution_count": 16
        }
      ]
    },
    {
      "cell_type": "code",
      "source": [
        "# Предложения ответы: из получившегося списка вопросов\n",
        "# формируем ответы - каждое последующее предложение является ответом для предыдущего\n",
        "\n",
        "tokens_a = tokens_q[1:]\n",
        "tokens_a.append(tokens_q[:1])\n",
        "print(len(tokens_a)), print(tokens_a[:3])"
      ],
      "metadata": {
        "colab": {
          "base_uri": "https://localhost:8080/"
        },
        "id": "PtRj-qtvaN4t",
        "outputId": "1e2edff4-b1ed-41e6-9dbf-170099e52acb"
      },
      "execution_count": 17,
      "outputs": [
        {
          "output_type": "stream",
          "name": "stdout",
          "text": [
            "5204\n",
            "['Я чувствую это в воде, чувствую в земле, ощущаю в воздухе.', 'Многое из того, что было - ушло.', 'И не осталось тех, кто помнит об этом.']\n"
          ]
        },
        {
          "output_type": "execute_result",
          "data": {
            "text/plain": [
              "(None, None)"
            ]
          },
          "metadata": {},
          "execution_count": 17
        }
      ]
    },
    {
      "cell_type": "code",
      "source": [
        "df = pd.DataFrame({'question': tokens_q, 'answer': tokens_a})\n",
        "df.sample(2)"
      ],
      "metadata": {
        "colab": {
          "base_uri": "https://localhost:8080/",
          "height": 112
        },
        "id": "flHRmLPTZR7g",
        "outputId": "301a3cb0-0dae-4595-d1d8-3e2d8f37ee7f"
      },
      "execution_count": 18,
      "outputs": [
        {
          "output_type": "execute_result",
          "data": {
            "text/plain": [
              "                       question                    answer\n",
              "1083                   Что это?                   Ничего.\n",
              "3015  Он должен уничтожить его!  Поймите же куда мы идём."
            ],
            "text/html": [
              "\n",
              "  <div id=\"df-91b263fe-f3d9-40ee-a741-01f018286889\">\n",
              "    <div class=\"colab-df-container\">\n",
              "      <div>\n",
              "<style scoped>\n",
              "    .dataframe tbody tr th:only-of-type {\n",
              "        vertical-align: middle;\n",
              "    }\n",
              "\n",
              "    .dataframe tbody tr th {\n",
              "        vertical-align: top;\n",
              "    }\n",
              "\n",
              "    .dataframe thead th {\n",
              "        text-align: right;\n",
              "    }\n",
              "</style>\n",
              "<table border=\"1\" class=\"dataframe\">\n",
              "  <thead>\n",
              "    <tr style=\"text-align: right;\">\n",
              "      <th></th>\n",
              "      <th>question</th>\n",
              "      <th>answer</th>\n",
              "    </tr>\n",
              "  </thead>\n",
              "  <tbody>\n",
              "    <tr>\n",
              "      <th>1083</th>\n",
              "      <td>Что это?</td>\n",
              "      <td>Ничего.</td>\n",
              "    </tr>\n",
              "    <tr>\n",
              "      <th>3015</th>\n",
              "      <td>Он должен уничтожить его!</td>\n",
              "      <td>Поймите же куда мы идём.</td>\n",
              "    </tr>\n",
              "  </tbody>\n",
              "</table>\n",
              "</div>\n",
              "      <button class=\"colab-df-convert\" onclick=\"convertToInteractive('df-91b263fe-f3d9-40ee-a741-01f018286889')\"\n",
              "              title=\"Convert this dataframe to an interactive table.\"\n",
              "              style=\"display:none;\">\n",
              "        \n",
              "  <svg xmlns=\"http://www.w3.org/2000/svg\" height=\"24px\"viewBox=\"0 0 24 24\"\n",
              "       width=\"24px\">\n",
              "    <path d=\"M0 0h24v24H0V0z\" fill=\"none\"/>\n",
              "    <path d=\"M18.56 5.44l.94 2.06.94-2.06 2.06-.94-2.06-.94-.94-2.06-.94 2.06-2.06.94zm-11 1L8.5 8.5l.94-2.06 2.06-.94-2.06-.94L8.5 2.5l-.94 2.06-2.06.94zm10 10l.94 2.06.94-2.06 2.06-.94-2.06-.94-.94-2.06-.94 2.06-2.06.94z\"/><path d=\"M17.41 7.96l-1.37-1.37c-.4-.4-.92-.59-1.43-.59-.52 0-1.04.2-1.43.59L10.3 9.45l-7.72 7.72c-.78.78-.78 2.05 0 2.83L4 21.41c.39.39.9.59 1.41.59.51 0 1.02-.2 1.41-.59l7.78-7.78 2.81-2.81c.8-.78.8-2.07 0-2.86zM5.41 20L4 18.59l7.72-7.72 1.47 1.35L5.41 20z\"/>\n",
              "  </svg>\n",
              "      </button>\n",
              "      \n",
              "  <style>\n",
              "    .colab-df-container {\n",
              "      display:flex;\n",
              "      flex-wrap:wrap;\n",
              "      gap: 12px;\n",
              "    }\n",
              "\n",
              "    .colab-df-convert {\n",
              "      background-color: #E8F0FE;\n",
              "      border: none;\n",
              "      border-radius: 50%;\n",
              "      cursor: pointer;\n",
              "      display: none;\n",
              "      fill: #1967D2;\n",
              "      height: 32px;\n",
              "      padding: 0 0 0 0;\n",
              "      width: 32px;\n",
              "    }\n",
              "\n",
              "    .colab-df-convert:hover {\n",
              "      background-color: #E2EBFA;\n",
              "      box-shadow: 0px 1px 2px rgba(60, 64, 67, 0.3), 0px 1px 3px 1px rgba(60, 64, 67, 0.15);\n",
              "      fill: #174EA6;\n",
              "    }\n",
              "\n",
              "    [theme=dark] .colab-df-convert {\n",
              "      background-color: #3B4455;\n",
              "      fill: #D2E3FC;\n",
              "    }\n",
              "\n",
              "    [theme=dark] .colab-df-convert:hover {\n",
              "      background-color: #434B5C;\n",
              "      box-shadow: 0px 1px 3px 1px rgba(0, 0, 0, 0.15);\n",
              "      filter: drop-shadow(0px 1px 2px rgba(0, 0, 0, 0.3));\n",
              "      fill: #FFFFFF;\n",
              "    }\n",
              "  </style>\n",
              "\n",
              "      <script>\n",
              "        const buttonEl =\n",
              "          document.querySelector('#df-91b263fe-f3d9-40ee-a741-01f018286889 button.colab-df-convert');\n",
              "        buttonEl.style.display =\n",
              "          google.colab.kernel.accessAllowed ? 'block' : 'none';\n",
              "\n",
              "        async function convertToInteractive(key) {\n",
              "          const element = document.querySelector('#df-91b263fe-f3d9-40ee-a741-01f018286889');\n",
              "          const dataTable =\n",
              "            await google.colab.kernel.invokeFunction('convertToInteractive',\n",
              "                                                     [key], {});\n",
              "          if (!dataTable) return;\n",
              "\n",
              "          const docLinkHtml = 'Like what you see? Visit the ' +\n",
              "            '<a target=\"_blank\" href=https://colab.research.google.com/notebooks/data_table.ipynb>data table notebook</a>'\n",
              "            + ' to learn more about interactive tables.';\n",
              "          element.innerHTML = '';\n",
              "          dataTable['output_type'] = 'display_data';\n",
              "          await google.colab.output.renderOutput(dataTable, element);\n",
              "          const docLink = document.createElement('div');\n",
              "          docLink.innerHTML = docLinkHtml;\n",
              "          element.appendChild(docLink);\n",
              "        }\n",
              "      </script>\n",
              "    </div>\n",
              "  </div>\n",
              "  "
            ]
          },
          "metadata": {},
          "execution_count": 18
        }
      ]
    },
    {
      "cell_type": "markdown",
      "source": [
        "Функции для модели"
      ],
      "metadata": {
        "id": "YIqOVGnLX5oA"
      }
    },
    {
      "cell_type": "code",
      "source": [
        "# Преобразование данных\n",
        "\n",
        "morpher = MorphAnalyzer()\n",
        "sw = get_stop_words(\"ru\") + stopwords.words('russian')\n",
        "punkt = list(string.punctuation)\n",
        "noise = set(sw + punkt)\n",
        "\n",
        "def preprocess_txt(text):\n",
        "    return [t for t in [morpher.parse(token)[0].normal_form \n",
        "                                for token in word_tokenize(text)] if t not in noise]\n",
        "\n",
        "\n",
        "def start_prep(data):\n",
        "    result = []\n",
        "\n",
        "    for text in tqdm(data):\n",
        "      prep = preprocess_txt(text)\n",
        "      result.append(prep)\n",
        "\n",
        "    return result"
      ],
      "metadata": {
        "id": "SLiZQ3ccElA_"
      },
      "execution_count": 19,
      "outputs": []
    },
    {
      "cell_type": "code",
      "source": [
        "# Процедура поиска ближайших вопросов\n",
        "def get_model_index(model):\n",
        "    model_index = annoy.AnnoyIndex(300 ,'angular') # поиск ближайших соседей\n",
        "\n",
        "    index_map = {}\n",
        "    counter = 0\n",
        "\n",
        "    for question in df.question:\n",
        "        n_model = 0\n",
        "        index_map[counter] = question\n",
        "        que_prep = preprocess_txt(question)\n",
        "        \n",
        "        vector_model = np.zeros(300) #вектор твита\n",
        "\n",
        "        for word in que_prep:\n",
        "            if word in model:\n",
        "                vector_model += model[word]\n",
        "                n_model += 1\n",
        "\n",
        "        if n_model > 0:\n",
        "            vector_model = vector_model / n_model #нормализуем вектор=\n",
        "       \n",
        "        model_index.add_item(counter, vector_model) #добавляем элемент для индексации\n",
        "     \n",
        "        counter += 1\n",
        "\n",
        "        if counter > 100000:\n",
        "            break\n",
        "\n",
        "    model_index.build(100) #из индексов создаем кластеры\n",
        "    return model_index, index_map"
      ],
      "metadata": {
        "id": "iGynyCAoFJFK"
      },
      "execution_count": 20,
      "outputs": []
    },
    {
      "cell_type": "code",
      "source": [
        "# Функция поиска ближайших соседей\n",
        "def get_response(que, index, model, index_map, df):\n",
        "    token = preprocess_txt(que)\n",
        "    vector = np.zeros(300)\n",
        "    norm = 0\n",
        "\n",
        "    for word in token:\n",
        "        if word in model:\n",
        "            vector += model[word]\n",
        "            norm += 1\n",
        "    if norm > 0:\n",
        "        vector = vector / norm\n",
        "    similar_que = index.get_nns_by_vector(vector, 15, include_distances=True)\n",
        "    \n",
        "    result = pd.DataFrame({'question': [index_map[i]  for i in similar_que[0]], \n",
        "                           'distance' : similar_que[1], 'answer': [df[df.index == i].answer.values[0] for i in similar_que[0]]})\n",
        "    \n",
        "\n",
        "    return result"
      ],
      "metadata": {
        "id": "3VOfFQGYFLr7"
      },
      "execution_count": 21,
      "outputs": []
    },
    {
      "cell_type": "code",
      "source": [
        "tokens = start_prep(df.question)\n",
        "modelFT = FastText(sentences=tokens, size=300, min_count=1, window=5, workers=8)\n",
        "ft_index, index_map = get_model_index(modelFT.wv)"
      ],
      "metadata": {
        "colab": {
          "base_uri": "https://localhost:8080/"
        },
        "id": "0sYrZHPgE7XE",
        "outputId": "a2c9291d-d8fa-4051-daf1-a2aa75058893"
      },
      "execution_count": 22,
      "outputs": [
        {
          "output_type": "stream",
          "name": "stderr",
          "text": [
            "100%|██████████| 5204/5204 [00:07<00:00, 742.13it/s]\n",
            "WARNING:gensim.models.base_any2vec:under 10 jobs per worker: consider setting a smaller `batch_words' for smoother alpha decay\n"
          ]
        }
      ]
    },
    {
      "cell_type": "markdown",
      "source": [
        "Пример работы модели"
      ],
      "metadata": {
        "id": "-iWLtJ-6v4P7"
      }
    },
    {
      "cell_type": "code",
      "source": [
        "smp = 'Арагорн?'\n",
        "\n",
        "print(smp)\n",
        "# get_response(smp, ft_index, modelFT.wv, index_map, df)\n",
        "\n",
        "# single answer\n",
        "rand = random.randint(0,14)\n",
        "resp = get_response(smp, ft_index, modelFT.wv, index_map, df)\n",
        "print(resp.answer.values[rand])"
      ],
      "metadata": {
        "colab": {
          "base_uri": "https://localhost:8080/"
        },
        "id": "Zzp39mmXGGkt",
        "outputId": "0276fead-ebdf-4bfa-969b-f7cbc2172279"
      },
      "execution_count": 23,
      "outputs": [
        {
          "output_type": "stream",
          "name": "stdout",
          "text": [
            "Арагорн?\n",
            "У них не было чести при жизни, нету и после смерти.\n"
          ]
        }
      ]
    },
    {
      "cell_type": "code",
      "source": [
        "smp = 'Расскажи о средиземье'\n",
        "\n",
        "print(smp)\n",
        "# get_response(smp, ft_index, modelFT.wv, index_map, df)\n",
        "\n",
        "# single answer\n",
        "rand = random.randint(0,14)\n",
        "resp = get_response(smp, ft_index, modelFT.wv, index_map, df)\n",
        "print(resp.answer.values[rand])"
      ],
      "metadata": {
        "colab": {
          "base_uri": "https://localhost:8080/"
        },
        "id": "aaOCryKEP2ah",
        "outputId": "dbf4029d-885f-4e2a-d539-83ddb7c55582"
      },
      "execution_count": 24,
      "outputs": [
        {
          "output_type": "stream",
          "name": "stdout",
          "text": [
            "Расскажи о средиземье\n",
            "Ужасная искалеченная форма жизни.\n"
          ]
        }
      ]
    },
    {
      "cell_type": "code",
      "source": [
        "resp"
      ],
      "metadata": {
        "colab": {
          "base_uri": "https://localhost:8080/",
          "height": 520
        },
        "id": "RgiN9mr4P5ZB",
        "outputId": "5028b48e-174b-49a7-b0de-03a4d9073335"
      },
      "execution_count": 25,
      "outputs": [
        {
          "output_type": "execute_result",
          "data": {
            "text/plain": [
              "                                             question  distance  \\\n",
              "0                   Расскажи мне всё, всё что знаешь.  0.027144   \n",
              "1                В Средиземье кое-что начинает гнить.  0.028718   \n",
              "2   В наших силах решать только что делать со врем...  0.030493   \n",
              "3                             Кажется, приспособился.  0.030620   \n",
              "4               Развяжи его и он зарежет нас спящими!  0.030629   \n",
              "5   Он собирает у себя всё зло, и скоро он соберёт...  0.030809   \n",
              "6                               Ты позвал нас биться.  0.030975   \n",
              "7   Она видела как её мать умерла от горя и остала...  0.031024   \n",
              "8            Как думаешь, стоит поделиться с Древнем?  0.031237   \n",
              "9           Хозяин просил показать ему путь в Мордор.  0.031522   \n",
              "10                        Оно стало завладевать вами.  0.031585   \n",
              "11                      Предвидел и ничего не сделал?  0.031641   \n",
              "12           Но мне кажется, мистер Фродо, я понимаю.  0.031654   \n",
              "13                             Я знаю что ты задумал.  0.031923   \n",
              "14       Тёмные силы захватили их, пытали, и увечили.  0.031992   \n",
              "\n",
              "                                               answer  \n",
              "0                  Вот как ты послужил своему городу.  \n",
              "1                              То, чего ты не увидел.  \n",
              "2   В мире действуют иные силы, Фродо, кроме воли ...  \n",
              "3                                            Арагорн!  \n",
              "4                            Ты знаешь путь в Мордор?  \n",
              "5                                      Ты знаешь это?  \n",
              "6                             Здесь не место хоббиту!  \n",
              "7                           Гимли...\\nНет, я не могу.  \n",
              "8                                         Поделиться?  \n",
              "9           Добрый Смегол показал, как хозяин просил.  \n",
              "10                                   Боритесь с этим!  \n",
              "11                                           Фарамир?  \n",
              "12                                      Понял теперь.  \n",
              "13                        Ты передашь кольцо Саурону.  \n",
              "14                  Ужасная искалеченная форма жизни.  "
            ],
            "text/html": [
              "\n",
              "  <div id=\"df-b42aa0cd-51a6-4e29-b8cb-ad66355d4dbc\">\n",
              "    <div class=\"colab-df-container\">\n",
              "      <div>\n",
              "<style scoped>\n",
              "    .dataframe tbody tr th:only-of-type {\n",
              "        vertical-align: middle;\n",
              "    }\n",
              "\n",
              "    .dataframe tbody tr th {\n",
              "        vertical-align: top;\n",
              "    }\n",
              "\n",
              "    .dataframe thead th {\n",
              "        text-align: right;\n",
              "    }\n",
              "</style>\n",
              "<table border=\"1\" class=\"dataframe\">\n",
              "  <thead>\n",
              "    <tr style=\"text-align: right;\">\n",
              "      <th></th>\n",
              "      <th>question</th>\n",
              "      <th>distance</th>\n",
              "      <th>answer</th>\n",
              "    </tr>\n",
              "  </thead>\n",
              "  <tbody>\n",
              "    <tr>\n",
              "      <th>0</th>\n",
              "      <td>Расскажи мне всё, всё что знаешь.</td>\n",
              "      <td>0.027144</td>\n",
              "      <td>Вот как ты послужил своему городу.</td>\n",
              "    </tr>\n",
              "    <tr>\n",
              "      <th>1</th>\n",
              "      <td>В Средиземье кое-что начинает гнить.</td>\n",
              "      <td>0.028718</td>\n",
              "      <td>То, чего ты не увидел.</td>\n",
              "    </tr>\n",
              "    <tr>\n",
              "      <th>2</th>\n",
              "      <td>В наших силах решать только что делать со врем...</td>\n",
              "      <td>0.030493</td>\n",
              "      <td>В мире действуют иные силы, Фродо, кроме воли ...</td>\n",
              "    </tr>\n",
              "    <tr>\n",
              "      <th>3</th>\n",
              "      <td>Кажется, приспособился.</td>\n",
              "      <td>0.030620</td>\n",
              "      <td>Арагорн!</td>\n",
              "    </tr>\n",
              "    <tr>\n",
              "      <th>4</th>\n",
              "      <td>Развяжи его и он зарежет нас спящими!</td>\n",
              "      <td>0.030629</td>\n",
              "      <td>Ты знаешь путь в Мордор?</td>\n",
              "    </tr>\n",
              "    <tr>\n",
              "      <th>5</th>\n",
              "      <td>Он собирает у себя всё зло, и скоро он соберёт...</td>\n",
              "      <td>0.030809</td>\n",
              "      <td>Ты знаешь это?</td>\n",
              "    </tr>\n",
              "    <tr>\n",
              "      <th>6</th>\n",
              "      <td>Ты позвал нас биться.</td>\n",
              "      <td>0.030975</td>\n",
              "      <td>Здесь не место хоббиту!</td>\n",
              "    </tr>\n",
              "    <tr>\n",
              "      <th>7</th>\n",
              "      <td>Она видела как её мать умерла от горя и остала...</td>\n",
              "      <td>0.031024</td>\n",
              "      <td>Гимли...\\nНет, я не могу.</td>\n",
              "    </tr>\n",
              "    <tr>\n",
              "      <th>8</th>\n",
              "      <td>Как думаешь, стоит поделиться с Древнем?</td>\n",
              "      <td>0.031237</td>\n",
              "      <td>Поделиться?</td>\n",
              "    </tr>\n",
              "    <tr>\n",
              "      <th>9</th>\n",
              "      <td>Хозяин просил показать ему путь в Мордор.</td>\n",
              "      <td>0.031522</td>\n",
              "      <td>Добрый Смегол показал, как хозяин просил.</td>\n",
              "    </tr>\n",
              "    <tr>\n",
              "      <th>10</th>\n",
              "      <td>Оно стало завладевать вами.</td>\n",
              "      <td>0.031585</td>\n",
              "      <td>Боритесь с этим!</td>\n",
              "    </tr>\n",
              "    <tr>\n",
              "      <th>11</th>\n",
              "      <td>Предвидел и ничего не сделал?</td>\n",
              "      <td>0.031641</td>\n",
              "      <td>Фарамир?</td>\n",
              "    </tr>\n",
              "    <tr>\n",
              "      <th>12</th>\n",
              "      <td>Но мне кажется, мистер Фродо, я понимаю.</td>\n",
              "      <td>0.031654</td>\n",
              "      <td>Понял теперь.</td>\n",
              "    </tr>\n",
              "    <tr>\n",
              "      <th>13</th>\n",
              "      <td>Я знаю что ты задумал.</td>\n",
              "      <td>0.031923</td>\n",
              "      <td>Ты передашь кольцо Саурону.</td>\n",
              "    </tr>\n",
              "    <tr>\n",
              "      <th>14</th>\n",
              "      <td>Тёмные силы захватили их, пытали, и увечили.</td>\n",
              "      <td>0.031992</td>\n",
              "      <td>Ужасная искалеченная форма жизни.</td>\n",
              "    </tr>\n",
              "  </tbody>\n",
              "</table>\n",
              "</div>\n",
              "      <button class=\"colab-df-convert\" onclick=\"convertToInteractive('df-b42aa0cd-51a6-4e29-b8cb-ad66355d4dbc')\"\n",
              "              title=\"Convert this dataframe to an interactive table.\"\n",
              "              style=\"display:none;\">\n",
              "        \n",
              "  <svg xmlns=\"http://www.w3.org/2000/svg\" height=\"24px\"viewBox=\"0 0 24 24\"\n",
              "       width=\"24px\">\n",
              "    <path d=\"M0 0h24v24H0V0z\" fill=\"none\"/>\n",
              "    <path d=\"M18.56 5.44l.94 2.06.94-2.06 2.06-.94-2.06-.94-.94-2.06-.94 2.06-2.06.94zm-11 1L8.5 8.5l.94-2.06 2.06-.94-2.06-.94L8.5 2.5l-.94 2.06-2.06.94zm10 10l.94 2.06.94-2.06 2.06-.94-2.06-.94-.94-2.06-.94 2.06-2.06.94z\"/><path d=\"M17.41 7.96l-1.37-1.37c-.4-.4-.92-.59-1.43-.59-.52 0-1.04.2-1.43.59L10.3 9.45l-7.72 7.72c-.78.78-.78 2.05 0 2.83L4 21.41c.39.39.9.59 1.41.59.51 0 1.02-.2 1.41-.59l7.78-7.78 2.81-2.81c.8-.78.8-2.07 0-2.86zM5.41 20L4 18.59l7.72-7.72 1.47 1.35L5.41 20z\"/>\n",
              "  </svg>\n",
              "      </button>\n",
              "      \n",
              "  <style>\n",
              "    .colab-df-container {\n",
              "      display:flex;\n",
              "      flex-wrap:wrap;\n",
              "      gap: 12px;\n",
              "    }\n",
              "\n",
              "    .colab-df-convert {\n",
              "      background-color: #E8F0FE;\n",
              "      border: none;\n",
              "      border-radius: 50%;\n",
              "      cursor: pointer;\n",
              "      display: none;\n",
              "      fill: #1967D2;\n",
              "      height: 32px;\n",
              "      padding: 0 0 0 0;\n",
              "      width: 32px;\n",
              "    }\n",
              "\n",
              "    .colab-df-convert:hover {\n",
              "      background-color: #E2EBFA;\n",
              "      box-shadow: 0px 1px 2px rgba(60, 64, 67, 0.3), 0px 1px 3px 1px rgba(60, 64, 67, 0.15);\n",
              "      fill: #174EA6;\n",
              "    }\n",
              "\n",
              "    [theme=dark] .colab-df-convert {\n",
              "      background-color: #3B4455;\n",
              "      fill: #D2E3FC;\n",
              "    }\n",
              "\n",
              "    [theme=dark] .colab-df-convert:hover {\n",
              "      background-color: #434B5C;\n",
              "      box-shadow: 0px 1px 3px 1px rgba(0, 0, 0, 0.15);\n",
              "      filter: drop-shadow(0px 1px 2px rgba(0, 0, 0, 0.3));\n",
              "      fill: #FFFFFF;\n",
              "    }\n",
              "  </style>\n",
              "\n",
              "      <script>\n",
              "        const buttonEl =\n",
              "          document.querySelector('#df-b42aa0cd-51a6-4e29-b8cb-ad66355d4dbc button.colab-df-convert');\n",
              "        buttonEl.style.display =\n",
              "          google.colab.kernel.accessAllowed ? 'block' : 'none';\n",
              "\n",
              "        async function convertToInteractive(key) {\n",
              "          const element = document.querySelector('#df-b42aa0cd-51a6-4e29-b8cb-ad66355d4dbc');\n",
              "          const dataTable =\n",
              "            await google.colab.kernel.invokeFunction('convertToInteractive',\n",
              "                                                     [key], {});\n",
              "          if (!dataTable) return;\n",
              "\n",
              "          const docLinkHtml = 'Like what you see? Visit the ' +\n",
              "            '<a target=\"_blank\" href=https://colab.research.google.com/notebooks/data_table.ipynb>data table notebook</a>'\n",
              "            + ' to learn more about interactive tables.';\n",
              "          element.innerHTML = '';\n",
              "          dataTable['output_type'] = 'display_data';\n",
              "          await google.colab.output.renderOutput(dataTable, element);\n",
              "          const docLink = document.createElement('div');\n",
              "          docLink.innerHTML = docLinkHtml;\n",
              "          element.appendChild(docLink);\n",
              "        }\n",
              "      </script>\n",
              "    </div>\n",
              "  </div>\n",
              "  "
            ]
          },
          "metadata": {},
          "execution_count": 25
        }
      ]
    },
    {
      "cell_type": "markdown",
      "source": [
        "**Игра \"Угадай персонажа\"**"
      ],
      "metadata": {
        "id": "jDD_3Z7Rjgr4"
      }
    },
    {
      "cell_type": "markdown",
      "source": [
        "Пользователь вводит описание персонажа, модель делает предсказание, к кому из персонажей это описание может относиться."
      ],
      "metadata": {
        "id": "Y5HptECarRTw"
      }
    },
    {
      "cell_type": "code",
      "source": [
        "#В качестве данных возьмем wiki описание персонажей Властелина колец\n",
        "heroes = ['Арагорн', 'Арвен', 'Бильбо Бэггинс', 'Том Бомбадил', 'Боромир', 'Фродо Бэггинс', 'Галадриэль', \n",
        "          'Гимли', 'Голлум', 'Грима Червеуст', 'Гэндальф', 'Дэнетор II', 'Исильдур', 'Келеборн', 'Кирдан Корабел', \n",
        "          'Король-чародей Ангмара', 'Леголас', 'Мериадок Брендибак', 'Перегрин Тук', 'Радагаст', 'Саруман', 'Саурон', 'Сэмуайз Гэмджи', \n",
        "          'Теоден', 'Трандуил', 'Фарамир', 'Элронд', 'Эовин', 'Эомер']\n",
        "\n",
        "heroes_data = {'description': [], \n",
        "               'character': []}\n",
        "\n",
        "for hero in tqdm(heroes):\n",
        "  wiki = wikipedia.search(hero)\n",
        "  ans = wikipedia.page(wiki[0]).content\n",
        "  heroes_data['description'].append(ans)\n",
        "  heroes_data['character'].append(hero)"
      ],
      "metadata": {
        "colab": {
          "base_uri": "https://localhost:8080/"
        },
        "id": "rx_CryxTdLLt",
        "outputId": "1eaffde1-afeb-4b44-8de4-6804760e85eb"
      },
      "execution_count": 111,
      "outputs": [
        {
          "output_type": "stream",
          "name": "stderr",
          "text": [
            "100%|██████████| 29/29 [00:28<00:00,  1.02it/s]\n"
          ]
        }
      ]
    },
    {
      "cell_type": "code",
      "source": [
        "df2 = pd.DataFrame.from_dict(heroes_data)\n",
        "df2.head(2)"
      ],
      "metadata": {
        "colab": {
          "base_uri": "https://localhost:8080/",
          "height": 112
        },
        "id": "KntljAjXjj-G",
        "outputId": "5ddaacbf-b9d5-456b-e286-2c00c15aa3ce"
      },
      "execution_count": 308,
      "outputs": [
        {
          "output_type": "execute_result",
          "data": {
            "text/plain": [
              "                                         description character\n",
              "0  А́рагорн — один из главных персонажей романа «...   Арагорн\n",
              "1  А́рвен Ундо́миэль (синд. Arwen Undómiel) — пер...     Арвен"
            ],
            "text/html": [
              "\n",
              "  <div id=\"df-35fa582f-3961-4c15-9215-3b3eb14c060f\">\n",
              "    <div class=\"colab-df-container\">\n",
              "      <div>\n",
              "<style scoped>\n",
              "    .dataframe tbody tr th:only-of-type {\n",
              "        vertical-align: middle;\n",
              "    }\n",
              "\n",
              "    .dataframe tbody tr th {\n",
              "        vertical-align: top;\n",
              "    }\n",
              "\n",
              "    .dataframe thead th {\n",
              "        text-align: right;\n",
              "    }\n",
              "</style>\n",
              "<table border=\"1\" class=\"dataframe\">\n",
              "  <thead>\n",
              "    <tr style=\"text-align: right;\">\n",
              "      <th></th>\n",
              "      <th>description</th>\n",
              "      <th>character</th>\n",
              "    </tr>\n",
              "  </thead>\n",
              "  <tbody>\n",
              "    <tr>\n",
              "      <th>0</th>\n",
              "      <td>А́рагорн — один из главных персонажей романа «...</td>\n",
              "      <td>Арагорн</td>\n",
              "    </tr>\n",
              "    <tr>\n",
              "      <th>1</th>\n",
              "      <td>А́рвен Ундо́миэль (синд. Arwen Undómiel) — пер...</td>\n",
              "      <td>Арвен</td>\n",
              "    </tr>\n",
              "  </tbody>\n",
              "</table>\n",
              "</div>\n",
              "      <button class=\"colab-df-convert\" onclick=\"convertToInteractive('df-35fa582f-3961-4c15-9215-3b3eb14c060f')\"\n",
              "              title=\"Convert this dataframe to an interactive table.\"\n",
              "              style=\"display:none;\">\n",
              "        \n",
              "  <svg xmlns=\"http://www.w3.org/2000/svg\" height=\"24px\"viewBox=\"0 0 24 24\"\n",
              "       width=\"24px\">\n",
              "    <path d=\"M0 0h24v24H0V0z\" fill=\"none\"/>\n",
              "    <path d=\"M18.56 5.44l.94 2.06.94-2.06 2.06-.94-2.06-.94-.94-2.06-.94 2.06-2.06.94zm-11 1L8.5 8.5l.94-2.06 2.06-.94-2.06-.94L8.5 2.5l-.94 2.06-2.06.94zm10 10l.94 2.06.94-2.06 2.06-.94-2.06-.94-.94-2.06-.94 2.06-2.06.94z\"/><path d=\"M17.41 7.96l-1.37-1.37c-.4-.4-.92-.59-1.43-.59-.52 0-1.04.2-1.43.59L10.3 9.45l-7.72 7.72c-.78.78-.78 2.05 0 2.83L4 21.41c.39.39.9.59 1.41.59.51 0 1.02-.2 1.41-.59l7.78-7.78 2.81-2.81c.8-.78.8-2.07 0-2.86zM5.41 20L4 18.59l7.72-7.72 1.47 1.35L5.41 20z\"/>\n",
              "  </svg>\n",
              "      </button>\n",
              "      \n",
              "  <style>\n",
              "    .colab-df-container {\n",
              "      display:flex;\n",
              "      flex-wrap:wrap;\n",
              "      gap: 12px;\n",
              "    }\n",
              "\n",
              "    .colab-df-convert {\n",
              "      background-color: #E8F0FE;\n",
              "      border: none;\n",
              "      border-radius: 50%;\n",
              "      cursor: pointer;\n",
              "      display: none;\n",
              "      fill: #1967D2;\n",
              "      height: 32px;\n",
              "      padding: 0 0 0 0;\n",
              "      width: 32px;\n",
              "    }\n",
              "\n",
              "    .colab-df-convert:hover {\n",
              "      background-color: #E2EBFA;\n",
              "      box-shadow: 0px 1px 2px rgba(60, 64, 67, 0.3), 0px 1px 3px 1px rgba(60, 64, 67, 0.15);\n",
              "      fill: #174EA6;\n",
              "    }\n",
              "\n",
              "    [theme=dark] .colab-df-convert {\n",
              "      background-color: #3B4455;\n",
              "      fill: #D2E3FC;\n",
              "    }\n",
              "\n",
              "    [theme=dark] .colab-df-convert:hover {\n",
              "      background-color: #434B5C;\n",
              "      box-shadow: 0px 1px 3px 1px rgba(0, 0, 0, 0.15);\n",
              "      filter: drop-shadow(0px 1px 2px rgba(0, 0, 0, 0.3));\n",
              "      fill: #FFFFFF;\n",
              "    }\n",
              "  </style>\n",
              "\n",
              "      <script>\n",
              "        const buttonEl =\n",
              "          document.querySelector('#df-35fa582f-3961-4c15-9215-3b3eb14c060f button.colab-df-convert');\n",
              "        buttonEl.style.display =\n",
              "          google.colab.kernel.accessAllowed ? 'block' : 'none';\n",
              "\n",
              "        async function convertToInteractive(key) {\n",
              "          const element = document.querySelector('#df-35fa582f-3961-4c15-9215-3b3eb14c060f');\n",
              "          const dataTable =\n",
              "            await google.colab.kernel.invokeFunction('convertToInteractive',\n",
              "                                                     [key], {});\n",
              "          if (!dataTable) return;\n",
              "\n",
              "          const docLinkHtml = 'Like what you see? Visit the ' +\n",
              "            '<a target=\"_blank\" href=https://colab.research.google.com/notebooks/data_table.ipynb>data table notebook</a>'\n",
              "            + ' to learn more about interactive tables.';\n",
              "          element.innerHTML = '';\n",
              "          dataTable['output_type'] = 'display_data';\n",
              "          await google.colab.output.renderOutput(dataTable, element);\n",
              "          const docLink = document.createElement('div');\n",
              "          docLink.innerHTML = docLinkHtml;\n",
              "          element.appendChild(docLink);\n",
              "        }\n",
              "      </script>\n",
              "    </div>\n",
              "  </div>\n",
              "  "
            ]
          },
          "metadata": {},
          "execution_count": 308
        }
      ]
    },
    {
      "cell_type": "code",
      "source": [
        "# Импорт дополнительных библиотек\n",
        "from sklearn.model_selection import train_test_split\n",
        "from string import punctuation\n",
        "from keras.preprocessing.sequence import pad_sequences\n",
        "from sklearn.preprocessing import LabelEncoder\n",
        "from tensorflow.keras.utils import to_categorical\n",
        "\n",
        "from keras.losses import SparseCategoricalCrossentropy\n",
        "from keras.models import Sequential, Model\n",
        "from keras.layers import Dense, Dropout, Activation, Input, Embedding, Conv1D, GlobalMaxPool1D, MaxPool1D, SimpleRNN, LSTM, GRU, Masking, Flatten\n",
        "from keras.callbacks import TensorBoard \n",
        "from keras.callbacks import EarlyStopping "
      ],
      "metadata": {
        "id": "ZBOA3ESKwQYl"
      },
      "execution_count": 113,
      "outputs": []
    },
    {
      "cell_type": "code",
      "source": [
        "import re\n",
        "\n",
        "# Преобразование данных\n",
        "sw = set(get_stop_words(\"ru\"))\n",
        "exclude = set(punctuation)\n",
        "cats = set(df2.character.str.lower().to_list()) # исключаем из обучающих текстов имена самих персонажей\n",
        "morpher = MorphAnalyzer()\n",
        "\n",
        "def preprocess_text(txt):\n",
        "    #print('raw: ', txt)\n",
        "    txt = str(txt)\n",
        "    #print('to str: ', txt)\n",
        "    txt = txt.lower()\n",
        "    #print('lower: ', txt)\n",
        "    txt = ''.join([i for i in txt if not i.isdigit()])\n",
        "    #print('no digits: ', txt)\n",
        "    #txt = ''.join([i for i in txt if i.isalpha()])\n",
        "    txt = re.sub('[()!@#$\"«»/]', '', txt)\n",
        "    #print('no sym: ', txt)\n",
        "    txt = \"\".join(c for c in txt if c not in exclude)\n",
        "    #print('exclude: ', txt)\n",
        "    txt = [morpher.parse(word)[0].normal_form for word in txt.split(' ') if word not in sw]\n",
        "    #print('morpher: ', txt)\n",
        "    txt = \" \".join(c for c in txt if c not in cats)\n",
        "    #print('wo cats: ', txt)\n",
        "    return \"\".join(txt)"
      ],
      "metadata": {
        "id": "ZG5YFgrznrLV"
      },
      "execution_count": 309,
      "outputs": []
    },
    {
      "cell_type": "code",
      "source": [
        "tqdm.pandas()\n",
        "df2['description'] = df2['description'].progress_apply(preprocess_text)"
      ],
      "metadata": {
        "colab": {
          "base_uri": "https://localhost:8080/"
        },
        "id": "7FIKvdbuwluL",
        "outputId": "227589f3-0d38-45de-ed45-a2b6794af8cd"
      },
      "execution_count": 310,
      "outputs": [
        {
          "output_type": "stream",
          "name": "stderr",
          "text": [
            "100%|██████████| 29/29 [00:08<00:00,  3.57it/s]\n"
          ]
        }
      ]
    },
    {
      "cell_type": "code",
      "source": [
        "df2['description'].sample(2)"
      ],
      "metadata": {
        "colab": {
          "base_uri": "https://localhost:8080/"
        },
        "id": "Fyx4xaxAIgcm",
        "outputId": "ee7e8a49-772b-4607-af84-27aa9fe0280d"
      },
      "execution_count": 311,
      "outputs": [
        {
          "output_type": "execute_result",
          "data": {
            "text/plain": [
              "22    сэ́муайза гэ́мджи англ samwise gamgee вариант ...\n",
              "5     фро́дый бэ́ггинс англ frodo baggins вестрон ma...\n",
              "Name: description, dtype: object"
            ]
          },
          "metadata": {},
          "execution_count": 311
        }
      ]
    },
    {
      "cell_type": "code",
      "source": [
        "from nltk.tokenize import word_tokenize\n",
        "tokenizer = nltk.data.load('tokenizers/punkt/russian.pickle')\n",
        "\n",
        "\n",
        "# Проведем токенизацию по 3-ем словам\n",
        "upd_df2 = {'description': [],\n",
        "           'character': []}\n",
        "\n",
        "for char in df2.character.unique():\n",
        "  data = df2[df2.character == char].description.to_list()\n",
        "  for d in data:\n",
        "    desc = tokenizer.tokenize(d)\n",
        "    for el in desc:\n",
        "      #print(el)\n",
        "      el = el.replace('—', ' ')\n",
        "      el = re.sub('[a-zA-Z]', '', el)\n",
        "      words = el.split(' ')\n",
        "      words = [word for word in words if word != '']\n",
        "      words = [word for word in words if len(word) >= 3]\n",
        "      #print(words)\n",
        "      n_min = 0\n",
        "      n_max = len(words)\n",
        "      \n",
        "      while n_min != n_max-2:\n",
        "        tok = [''.join(word) for word in words[n_min:n_min+3]]\n",
        "        n_min += 1\n",
        "        #print(tok)\n",
        "\n",
        "        upd_df2['description'].append(preprocess_text(tok))\n",
        "        upd_df2['character'].append(char)"
      ],
      "metadata": {
        "id": "H7ON-_Mx0K6w"
      },
      "execution_count": 312,
      "outputs": []
    },
    {
      "cell_type": "code",
      "source": [
        "df2 = pd.DataFrame.from_dict(upd_df2)\n",
        "df2.sample(2)"
      ],
      "metadata": {
        "colab": {
          "base_uri": "https://localhost:8080/",
          "height": 112
        },
        "id": "QdFjtxQx1bfB",
        "outputId": "257a652c-2aca-4cd4-adac-46215123f316"
      },
      "execution_count": 313,
      "outputs": [
        {
          "output_type": "execute_result",
          "data": {
            "text/plain": [
              "                       description     character\n",
              "14315     король элессара советник  Перегрин Тук\n",
              "21982  предупредить хоббит древний       Фарамир"
            ],
            "text/html": [
              "\n",
              "  <div id=\"df-6425d2c1-f92c-45b9-9d6c-8a4305ea79e8\">\n",
              "    <div class=\"colab-df-container\">\n",
              "      <div>\n",
              "<style scoped>\n",
              "    .dataframe tbody tr th:only-of-type {\n",
              "        vertical-align: middle;\n",
              "    }\n",
              "\n",
              "    .dataframe tbody tr th {\n",
              "        vertical-align: top;\n",
              "    }\n",
              "\n",
              "    .dataframe thead th {\n",
              "        text-align: right;\n",
              "    }\n",
              "</style>\n",
              "<table border=\"1\" class=\"dataframe\">\n",
              "  <thead>\n",
              "    <tr style=\"text-align: right;\">\n",
              "      <th></th>\n",
              "      <th>description</th>\n",
              "      <th>character</th>\n",
              "    </tr>\n",
              "  </thead>\n",
              "  <tbody>\n",
              "    <tr>\n",
              "      <th>14315</th>\n",
              "      <td>король элессара советник</td>\n",
              "      <td>Перегрин Тук</td>\n",
              "    </tr>\n",
              "    <tr>\n",
              "      <th>21982</th>\n",
              "      <td>предупредить хоббит древний</td>\n",
              "      <td>Фарамир</td>\n",
              "    </tr>\n",
              "  </tbody>\n",
              "</table>\n",
              "</div>\n",
              "      <button class=\"colab-df-convert\" onclick=\"convertToInteractive('df-6425d2c1-f92c-45b9-9d6c-8a4305ea79e8')\"\n",
              "              title=\"Convert this dataframe to an interactive table.\"\n",
              "              style=\"display:none;\">\n",
              "        \n",
              "  <svg xmlns=\"http://www.w3.org/2000/svg\" height=\"24px\"viewBox=\"0 0 24 24\"\n",
              "       width=\"24px\">\n",
              "    <path d=\"M0 0h24v24H0V0z\" fill=\"none\"/>\n",
              "    <path d=\"M18.56 5.44l.94 2.06.94-2.06 2.06-.94-2.06-.94-.94-2.06-.94 2.06-2.06.94zm-11 1L8.5 8.5l.94-2.06 2.06-.94-2.06-.94L8.5 2.5l-.94 2.06-2.06.94zm10 10l.94 2.06.94-2.06 2.06-.94-2.06-.94-.94-2.06-.94 2.06-2.06.94z\"/><path d=\"M17.41 7.96l-1.37-1.37c-.4-.4-.92-.59-1.43-.59-.52 0-1.04.2-1.43.59L10.3 9.45l-7.72 7.72c-.78.78-.78 2.05 0 2.83L4 21.41c.39.39.9.59 1.41.59.51 0 1.02-.2 1.41-.59l7.78-7.78 2.81-2.81c.8-.78.8-2.07 0-2.86zM5.41 20L4 18.59l7.72-7.72 1.47 1.35L5.41 20z\"/>\n",
              "  </svg>\n",
              "      </button>\n",
              "      \n",
              "  <style>\n",
              "    .colab-df-container {\n",
              "      display:flex;\n",
              "      flex-wrap:wrap;\n",
              "      gap: 12px;\n",
              "    }\n",
              "\n",
              "    .colab-df-convert {\n",
              "      background-color: #E8F0FE;\n",
              "      border: none;\n",
              "      border-radius: 50%;\n",
              "      cursor: pointer;\n",
              "      display: none;\n",
              "      fill: #1967D2;\n",
              "      height: 32px;\n",
              "      padding: 0 0 0 0;\n",
              "      width: 32px;\n",
              "    }\n",
              "\n",
              "    .colab-df-convert:hover {\n",
              "      background-color: #E2EBFA;\n",
              "      box-shadow: 0px 1px 2px rgba(60, 64, 67, 0.3), 0px 1px 3px 1px rgba(60, 64, 67, 0.15);\n",
              "      fill: #174EA6;\n",
              "    }\n",
              "\n",
              "    [theme=dark] .colab-df-convert {\n",
              "      background-color: #3B4455;\n",
              "      fill: #D2E3FC;\n",
              "    }\n",
              "\n",
              "    [theme=dark] .colab-df-convert:hover {\n",
              "      background-color: #434B5C;\n",
              "      box-shadow: 0px 1px 3px 1px rgba(0, 0, 0, 0.15);\n",
              "      filter: drop-shadow(0px 1px 2px rgba(0, 0, 0, 0.3));\n",
              "      fill: #FFFFFF;\n",
              "    }\n",
              "  </style>\n",
              "\n",
              "      <script>\n",
              "        const buttonEl =\n",
              "          document.querySelector('#df-6425d2c1-f92c-45b9-9d6c-8a4305ea79e8 button.colab-df-convert');\n",
              "        buttonEl.style.display =\n",
              "          google.colab.kernel.accessAllowed ? 'block' : 'none';\n",
              "\n",
              "        async function convertToInteractive(key) {\n",
              "          const element = document.querySelector('#df-6425d2c1-f92c-45b9-9d6c-8a4305ea79e8');\n",
              "          const dataTable =\n",
              "            await google.colab.kernel.invokeFunction('convertToInteractive',\n",
              "                                                     [key], {});\n",
              "          if (!dataTable) return;\n",
              "\n",
              "          const docLinkHtml = 'Like what you see? Visit the ' +\n",
              "            '<a target=\"_blank\" href=https://colab.research.google.com/notebooks/data_table.ipynb>data table notebook</a>'\n",
              "            + ' to learn more about interactive tables.';\n",
              "          element.innerHTML = '';\n",
              "          dataTable['output_type'] = 'display_data';\n",
              "          await google.colab.output.renderOutput(dataTable, element);\n",
              "          const docLink = document.createElement('div');\n",
              "          docLink.innerHTML = docLinkHtml;\n",
              "          element.appendChild(docLink);\n",
              "        }\n",
              "      </script>\n",
              "    </div>\n",
              "  </div>\n",
              "  "
            ]
          },
          "metadata": {},
          "execution_count": 313
        }
      ]
    },
    {
      "cell_type": "code",
      "source": [
        "df2.shape"
      ],
      "metadata": {
        "colab": {
          "base_uri": "https://localhost:8080/"
        },
        "id": "TOjAxj-IOKRf",
        "outputId": "09aaa425-def7-459a-cf4c-c719f4542b05"
      },
      "execution_count": 317,
      "outputs": [
        {
          "output_type": "execute_result",
          "data": {
            "text/plain": [
              "(24081, 2)"
            ]
          },
          "metadata": {},
          "execution_count": 317
        }
      ]
    },
    {
      "cell_type": "code",
      "source": [
        "df2 = df2.drop_duplicates(subset=['description'], keep='first')"
      ],
      "metadata": {
        "id": "UVMvwfN_OEEi"
      },
      "execution_count": 318,
      "outputs": []
    },
    {
      "cell_type": "code",
      "source": [
        "df2.shape"
      ],
      "metadata": {
        "colab": {
          "base_uri": "https://localhost:8080/"
        },
        "id": "69Q1G2kRNWy_",
        "outputId": "f14435b3-1fca-4366-a013-c23cb0e6aea5"
      },
      "execution_count": 320,
      "outputs": [
        {
          "output_type": "execute_result",
          "data": {
            "text/plain": [
              "(22997, 2)"
            ]
          },
          "metadata": {},
          "execution_count": 320
        }
      ]
    },
    {
      "cell_type": "code",
      "source": [
        "#Разбиваем на трейн и тест\n",
        "df_train, df_test = train_test_split(df2, test_size=0.10, random_state=42)\n",
        "df_train = df_train.reset_index(drop=True)\n",
        "df_test = df_test.reset_index(drop=True)\n",
        "df_train.shape, df_test.shape"
      ],
      "metadata": {
        "colab": {
          "base_uri": "https://localhost:8080/"
        },
        "id": "uhNvnP_OwZxr",
        "outputId": "1fd841b2-44d8-4778-e1f1-c8c203ddf91d"
      },
      "execution_count": 321,
      "outputs": [
        {
          "output_type": "execute_result",
          "data": {
            "text/plain": [
              "((20697, 2), (2300, 2))"
            ]
          },
          "metadata": {},
          "execution_count": 321
        }
      ]
    },
    {
      "cell_type": "code",
      "source": [
        "df_train['description'].sample(5)"
      ],
      "metadata": {
        "colab": {
          "base_uri": "https://localhost:8080/"
        },
        "id": "BXcKi2F6wqcM",
        "outputId": "3f79e0db-704a-4c95-c026-be35639a2224"
      },
      "execution_count": 322,
      "outputs": [
        {
          "output_type": "execute_result",
          "data": {
            "text/plain": [
              "11919             собиратель мох ссылаться\n",
              "5286         магический камень одноимённый\n",
              "1179              верёвка привязывать нога\n",
              "19228             войти диссонанс мелькора\n",
              "12361    штаны словосочетание использовать\n",
              "Name: description, dtype: object"
            ]
          },
          "metadata": {},
          "execution_count": 322
        }
      ]
    },
    {
      "cell_type": "code",
      "source": [
        "text_corpus_train = df_train['description'].values\n",
        "text_corpus_test = df_test['description'].values"
      ],
      "metadata": {
        "id": "TYZ6gFVz2vCi"
      },
      "execution_count": 323,
      "outputs": []
    },
    {
      "cell_type": "code",
      "source": [
        "from keras.preprocessing.text import Tokenizer\n",
        "\n",
        "# Определяем токенайзер\n",
        "tokenizer = Tokenizer(num_words=None, \n",
        "                     filters='#$%&()*+-<=>@[\\\\]^_`{|}~\\t\\n',\n",
        "                     lower = False, split = ' ')\n",
        "\n",
        "# Обучаем токенайзер на тренировочном наборе данных - > получаем готовый словарь\n",
        "tokenizer.fit_on_texts(text_corpus_train)"
      ],
      "metadata": {
        "id": "4Fshuk_M2zDy"
      },
      "execution_count": 324,
      "outputs": []
    },
    {
      "cell_type": "code",
      "source": [
        "# На основе полученного словаря токены переводятся в их id и сформировываем последовательности sequences\n",
        "\n",
        "sequences_train = tokenizer.texts_to_sequences(text_corpus_train)\n",
        "sequences_test = tokenizer.texts_to_sequences(text_corpus_test)"
      ],
      "metadata": {
        "id": "KTpyrkBw26lW"
      },
      "execution_count": 325,
      "outputs": []
    },
    {
      "cell_type": "code",
      "source": [
        "# всего слов в словаре\n",
        "word_count = len(tokenizer.index_word) + 1\n",
        "\n",
        "# находим максимальную длину будущей последовательности в тренировочном наборе\n",
        "training_length = max([len(i.split()) for i in text_corpus_train])\n",
        "\n",
        "word_count, training_length"
      ],
      "metadata": {
        "colab": {
          "base_uri": "https://localhost:8080/"
        },
        "id": "30N2x5p-28sB",
        "outputId": "ed9eb3af-2e03-407f-8477-ca165527e18f"
      },
      "execution_count": 326,
      "outputs": [
        {
          "output_type": "execute_result",
          "data": {
            "text/plain": [
              "(6263, 3)"
            ]
          },
          "metadata": {},
          "execution_count": 326
        }
      ]
    },
    {
      "cell_type": "code",
      "source": [
        "X_train = pad_sequences(sequences_train, maxlen=training_length)\n",
        "X_test = pad_sequences(sequences_test, maxlen=training_length)\n",
        "\n",
        "X_train[5]"
      ],
      "metadata": {
        "colab": {
          "base_uri": "https://localhost:8080/"
        },
        "id": "oWUF7t-d2-uw",
        "outputId": "6d61905f-bac4-4e45-c094-4830c8c7655e"
      },
      "execution_count": 327,
      "outputs": [
        {
          "output_type": "execute_result",
          "data": {
            "text/plain": [
              "array([ 130, 2660,   47], dtype=int32)"
            ]
          },
          "metadata": {},
          "execution_count": 327
        }
      ]
    },
    {
      "cell_type": "code",
      "source": [
        "# Преобразование значений y\n",
        "le = LabelEncoder()\n",
        "train_enc_labels = le.fit_transform(df_train['character']) \n",
        "test_enc_labels = le.transform(df_test['character'])\n",
        "le.classes_"
      ],
      "metadata": {
        "colab": {
          "base_uri": "https://localhost:8080/"
        },
        "id": "J3MUcKH83B5b",
        "outputId": "f5305106-6b71-4c6a-8fe0-c25eadf85dff"
      },
      "execution_count": 328,
      "outputs": [
        {
          "output_type": "execute_result",
          "data": {
            "text/plain": [
              "array(['Арагорн', 'Арвен', 'Бильбо Бэггинс', 'Боромир', 'Галадриэль',\n",
              "       'Гимли', 'Голлум', 'Грима Червеуст', 'Гэндальф', 'Дэнетор II',\n",
              "       'Исильдур', 'Келеборн', 'Кирдан Корабел', 'Король-чародей Ангмара',\n",
              "       'Леголас', 'Мериадок Брендибак', 'Перегрин Тук', 'Радагаст',\n",
              "       'Саруман', 'Саурон', 'Сэмуайз Гэмджи', 'Теоден', 'Том Бомбадил',\n",
              "       'Трандуил', 'Фарамир', 'Фродо Бэггинс', 'Элронд', 'Эовин', 'Эомер'],\n",
              "      dtype=object)"
            ]
          },
          "metadata": {},
          "execution_count": 328
        }
      ]
    },
    {
      "cell_type": "code",
      "source": [
        "num_classes = df_train['character'].nunique()\n",
        "y_train = to_categorical(train_enc_labels, num_classes)\n",
        "y_test = to_categorical(test_enc_labels, num_classes)"
      ],
      "metadata": {
        "id": "Cfl5W-dx3TC8"
      },
      "execution_count": 329,
      "outputs": []
    },
    {
      "cell_type": "code",
      "source": [
        "y_train.shape, y_train[3]"
      ],
      "metadata": {
        "colab": {
          "base_uri": "https://localhost:8080/"
        },
        "id": "hPx_pqGs3Zzo",
        "outputId": "9132ffd0-cd6d-4b36-821e-10bd372ae448"
      },
      "execution_count": 330,
      "outputs": [
        {
          "output_type": "execute_result",
          "data": {
            "text/plain": [
              "((20697, 29),\n",
              " array([0., 0., 0., 0., 0., 0., 0., 0., 0., 0., 0., 0., 0., 0., 0., 0., 0.,\n",
              "        0., 0., 1., 0., 0., 0., 0., 0., 0., 0., 0., 0.], dtype=float32))"
            ]
          },
          "metadata": {},
          "execution_count": 330
        }
      ]
    },
    {
      "cell_type": "code",
      "source": [
        "%%time\n",
        "early_stopping=EarlyStopping(monitor='val_loss', patience = 1, mode = 'min') \n",
        "\n",
        "# RNN - > CNN\n",
        "model = Sequential()\n",
        "\n",
        "model.add(Embedding(input_dim=word_count,\n",
        "              input_length=training_length,\n",
        "              output_dim=num_classes, \n",
        "              trainable=True,\n",
        "              mask_zero=True))\n",
        "\n",
        "model.add(Masking(mask_value=0.0))\n",
        "\n",
        "model.add(LSTM(64,recurrent_dropout=0.2, return_sequences=True))\n",
        "model.add(Conv1D(64, 3, padding = 'same', activation = 'relu'))\n",
        "model.add(GlobalMaxPool1D())\n",
        "model.add(Dense(32, activation='relu'))\n",
        "model.add(Dropout(0.5))\n",
        "model.add(Dense(num_classes, activation='softmax')) \n",
        "\n",
        "model.compile(\n",
        "    optimizer='adam', \n",
        "    loss='binary_crossentropy', \n",
        "    metrics=['accuracy'])\n",
        "\n",
        "history = model.fit(X_train, y_train,\n",
        "                    batch_size=25,\n",
        "                    epochs=40,\n",
        "                    verbose=1,\n",
        "                    validation_data = (X_test, y_test),\n",
        "                    callbacks = [early_stopping]\n",
        "                    )"
      ],
      "metadata": {
        "colab": {
          "base_uri": "https://localhost:8080/"
        },
        "id": "MtfHkUwu3ckU",
        "outputId": "9900eb23-4487-4ea1-831e-0430291f7c8e"
      },
      "execution_count": 332,
      "outputs": [
        {
          "output_type": "stream",
          "name": "stderr",
          "text": [
            "WARNING:tensorflow:Layer lstm_6 will not use cuDNN kernels since it doesn't meet the criteria. It will use a generic GPU kernel as fallback when running on GPU.\n"
          ]
        },
        {
          "output_type": "stream",
          "name": "stdout",
          "text": [
            "Epoch 1/40\n",
            "828/828 [==============================] - 24s 24ms/step - loss: 0.2071 - accuracy: 0.0814 - val_loss: 0.1422 - val_accuracy: 0.1322\n",
            "Epoch 2/40\n",
            "828/828 [==============================] - 16s 20ms/step - loss: 0.1578 - accuracy: 0.1285 - val_loss: 0.1407 - val_accuracy: 0.1322\n",
            "Epoch 3/40\n",
            "828/828 [==============================] - 17s 20ms/step - loss: 0.1538 - accuracy: 0.1328 - val_loss: 0.1395 - val_accuracy: 0.1322\n",
            "Epoch 4/40\n",
            "828/828 [==============================] - 17s 20ms/step - loss: 0.1466 - accuracy: 0.1385 - val_loss: 0.1292 - val_accuracy: 0.1530\n",
            "Epoch 5/40\n",
            "828/828 [==============================] - 18s 21ms/step - loss: 0.1376 - accuracy: 0.1549 - val_loss: 0.1258 - val_accuracy: 0.1517\n",
            "Epoch 6/40\n",
            "828/828 [==============================] - 16s 20ms/step - loss: 0.1325 - accuracy: 0.1599 - val_loss: 0.1238 - val_accuracy: 0.1604\n",
            "Epoch 7/40\n",
            "828/828 [==============================] - 17s 20ms/step - loss: 0.1288 - accuracy: 0.1666 - val_loss: 0.1220 - val_accuracy: 0.1830\n",
            "Epoch 8/40\n",
            "828/828 [==============================] - 17s 20ms/step - loss: 0.1256 - accuracy: 0.1808 - val_loss: 0.1199 - val_accuracy: 0.1830\n",
            "Epoch 9/40\n",
            "828/828 [==============================] - 16s 20ms/step - loss: 0.1207 - accuracy: 0.2015 - val_loss: 0.1179 - val_accuracy: 0.2087\n",
            "Epoch 10/40\n",
            "828/828 [==============================] - 17s 20ms/step - loss: 0.1164 - accuracy: 0.2272 - val_loss: 0.1143 - val_accuracy: 0.2235\n",
            "Epoch 11/40\n",
            "828/828 [==============================] - 16s 20ms/step - loss: 0.1119 - accuracy: 0.2517 - val_loss: 0.1119 - val_accuracy: 0.2639\n",
            "Epoch 12/40\n",
            "828/828 [==============================] - 17s 21ms/step - loss: 0.1068 - accuracy: 0.2834 - val_loss: 0.1075 - val_accuracy: 0.3061\n",
            "Epoch 13/40\n",
            "828/828 [==============================] - 16s 20ms/step - loss: 0.1019 - accuracy: 0.3159 - val_loss: 0.1052 - val_accuracy: 0.3396\n",
            "Epoch 14/40\n",
            "828/828 [==============================] - 16s 20ms/step - loss: 0.0968 - accuracy: 0.3562 - val_loss: 0.0999 - val_accuracy: 0.3778\n",
            "Epoch 15/40\n",
            "828/828 [==============================] - 16s 20ms/step - loss: 0.0928 - accuracy: 0.3917 - val_loss: 0.0985 - val_accuracy: 0.4109\n",
            "Epoch 16/40\n",
            "828/828 [==============================] - 16s 20ms/step - loss: 0.0889 - accuracy: 0.4351 - val_loss: 0.0956 - val_accuracy: 0.4417\n",
            "Epoch 17/40\n",
            "828/828 [==============================] - 16s 20ms/step - loss: 0.0858 - accuracy: 0.4611 - val_loss: 0.0967 - val_accuracy: 0.4413\n",
            "CPU times: user 6min 41s, sys: 47.5 s, total: 7min 29s\n",
            "Wall time: 4min 49s\n"
          ]
        }
      ]
    },
    {
      "cell_type": "code",
      "source": [
        "predictions = model.predict(X_test)"
      ],
      "metadata": {
        "id": "JwNO5NDO3xkv"
      },
      "execution_count": 333,
      "outputs": []
    },
    {
      "cell_type": "code",
      "source": [
        "preds = []\n",
        "for pred in predictions:\n",
        "    preds.append(pred.argmax())\n",
        "    \n",
        "len(preds), preds[:3]"
      ],
      "metadata": {
        "colab": {
          "base_uri": "https://localhost:8080/"
        },
        "id": "BYP4hVIy3xqz",
        "outputId": "0dc98637-f6d5-485a-eb25-d1a35c9d634e"
      },
      "execution_count": 334,
      "outputs": [
        {
          "output_type": "execute_result",
          "data": {
            "text/plain": [
              "(2300, [25, 7, 22])"
            ]
          },
          "metadata": {},
          "execution_count": 334
        }
      ]
    },
    {
      "cell_type": "code",
      "source": [
        "dec_preds = le.inverse_transform(preds)\n",
        "dec_preds[:3]"
      ],
      "metadata": {
        "colab": {
          "base_uri": "https://localhost:8080/"
        },
        "id": "Oia3sizK30bH",
        "outputId": "45fd93ce-8b79-49a7-b7b2-b3869575b86c"
      },
      "execution_count": 335,
      "outputs": [
        {
          "output_type": "execute_result",
          "data": {
            "text/plain": [
              "array(['Фродо Бэггинс', 'Грима Червеуст', 'Том Бомбадил'], dtype=object)"
            ]
          },
          "metadata": {},
          "execution_count": 335
        }
      ]
    },
    {
      "cell_type": "code",
      "source": [
        "cols = ['description', 'character']\n",
        "vals = df_test[cols]\n",
        "vals['preds'] = dec_preds\n",
        "vals.sample(5)"
      ],
      "metadata": {
        "colab": {
          "base_uri": "https://localhost:8080/",
          "height": 206
        },
        "id": "kuNkj6uJ31-D",
        "outputId": "a183d961-96ce-45e0-c060-9a4260b7987b"
      },
      "execution_count": 336,
      "outputs": [
        {
          "output_type": "execute_result",
          "data": {
            "text/plain": [
              "                      description               character  \\\n",
              "1917       андуин сарумана правда                Радагаст   \n",
              "2064  упасть колено корольчародый  Король-чародей Ангмара   \n",
              "2057        начало сделать начать                  Саурон   \n",
              "255                 рост сила дол                  Саурон   \n",
              "549     тайно вернуться мордорnnn                  Саурон   \n",
              "\n",
              "                       preds  \n",
              "1917                 Боромир  \n",
              "2064  Король-чародей Ангмара  \n",
              "2057                  Саурон  \n",
              "255                 Гэндальф  \n",
              "549                   Саурон  "
            ],
            "text/html": [
              "\n",
              "  <div id=\"df-555fcdf8-1283-4ba6-b5f9-89376199805a\">\n",
              "    <div class=\"colab-df-container\">\n",
              "      <div>\n",
              "<style scoped>\n",
              "    .dataframe tbody tr th:only-of-type {\n",
              "        vertical-align: middle;\n",
              "    }\n",
              "\n",
              "    .dataframe tbody tr th {\n",
              "        vertical-align: top;\n",
              "    }\n",
              "\n",
              "    .dataframe thead th {\n",
              "        text-align: right;\n",
              "    }\n",
              "</style>\n",
              "<table border=\"1\" class=\"dataframe\">\n",
              "  <thead>\n",
              "    <tr style=\"text-align: right;\">\n",
              "      <th></th>\n",
              "      <th>description</th>\n",
              "      <th>character</th>\n",
              "      <th>preds</th>\n",
              "    </tr>\n",
              "  </thead>\n",
              "  <tbody>\n",
              "    <tr>\n",
              "      <th>1917</th>\n",
              "      <td>андуин сарумана правда</td>\n",
              "      <td>Радагаст</td>\n",
              "      <td>Боромир</td>\n",
              "    </tr>\n",
              "    <tr>\n",
              "      <th>2064</th>\n",
              "      <td>упасть колено корольчародый</td>\n",
              "      <td>Король-чародей Ангмара</td>\n",
              "      <td>Король-чародей Ангмара</td>\n",
              "    </tr>\n",
              "    <tr>\n",
              "      <th>2057</th>\n",
              "      <td>начало сделать начать</td>\n",
              "      <td>Саурон</td>\n",
              "      <td>Саурон</td>\n",
              "    </tr>\n",
              "    <tr>\n",
              "      <th>255</th>\n",
              "      <td>рост сила дол</td>\n",
              "      <td>Саурон</td>\n",
              "      <td>Гэндальф</td>\n",
              "    </tr>\n",
              "    <tr>\n",
              "      <th>549</th>\n",
              "      <td>тайно вернуться мордорnnn</td>\n",
              "      <td>Саурон</td>\n",
              "      <td>Саурон</td>\n",
              "    </tr>\n",
              "  </tbody>\n",
              "</table>\n",
              "</div>\n",
              "      <button class=\"colab-df-convert\" onclick=\"convertToInteractive('df-555fcdf8-1283-4ba6-b5f9-89376199805a')\"\n",
              "              title=\"Convert this dataframe to an interactive table.\"\n",
              "              style=\"display:none;\">\n",
              "        \n",
              "  <svg xmlns=\"http://www.w3.org/2000/svg\" height=\"24px\"viewBox=\"0 0 24 24\"\n",
              "       width=\"24px\">\n",
              "    <path d=\"M0 0h24v24H0V0z\" fill=\"none\"/>\n",
              "    <path d=\"M18.56 5.44l.94 2.06.94-2.06 2.06-.94-2.06-.94-.94-2.06-.94 2.06-2.06.94zm-11 1L8.5 8.5l.94-2.06 2.06-.94-2.06-.94L8.5 2.5l-.94 2.06-2.06.94zm10 10l.94 2.06.94-2.06 2.06-.94-2.06-.94-.94-2.06-.94 2.06-2.06.94z\"/><path d=\"M17.41 7.96l-1.37-1.37c-.4-.4-.92-.59-1.43-.59-.52 0-1.04.2-1.43.59L10.3 9.45l-7.72 7.72c-.78.78-.78 2.05 0 2.83L4 21.41c.39.39.9.59 1.41.59.51 0 1.02-.2 1.41-.59l7.78-7.78 2.81-2.81c.8-.78.8-2.07 0-2.86zM5.41 20L4 18.59l7.72-7.72 1.47 1.35L5.41 20z\"/>\n",
              "  </svg>\n",
              "      </button>\n",
              "      \n",
              "  <style>\n",
              "    .colab-df-container {\n",
              "      display:flex;\n",
              "      flex-wrap:wrap;\n",
              "      gap: 12px;\n",
              "    }\n",
              "\n",
              "    .colab-df-convert {\n",
              "      background-color: #E8F0FE;\n",
              "      border: none;\n",
              "      border-radius: 50%;\n",
              "      cursor: pointer;\n",
              "      display: none;\n",
              "      fill: #1967D2;\n",
              "      height: 32px;\n",
              "      padding: 0 0 0 0;\n",
              "      width: 32px;\n",
              "    }\n",
              "\n",
              "    .colab-df-convert:hover {\n",
              "      background-color: #E2EBFA;\n",
              "      box-shadow: 0px 1px 2px rgba(60, 64, 67, 0.3), 0px 1px 3px 1px rgba(60, 64, 67, 0.15);\n",
              "      fill: #174EA6;\n",
              "    }\n",
              "\n",
              "    [theme=dark] .colab-df-convert {\n",
              "      background-color: #3B4455;\n",
              "      fill: #D2E3FC;\n",
              "    }\n",
              "\n",
              "    [theme=dark] .colab-df-convert:hover {\n",
              "      background-color: #434B5C;\n",
              "      box-shadow: 0px 1px 3px 1px rgba(0, 0, 0, 0.15);\n",
              "      filter: drop-shadow(0px 1px 2px rgba(0, 0, 0, 0.3));\n",
              "      fill: #FFFFFF;\n",
              "    }\n",
              "  </style>\n",
              "\n",
              "      <script>\n",
              "        const buttonEl =\n",
              "          document.querySelector('#df-555fcdf8-1283-4ba6-b5f9-89376199805a button.colab-df-convert');\n",
              "        buttonEl.style.display =\n",
              "          google.colab.kernel.accessAllowed ? 'block' : 'none';\n",
              "\n",
              "        async function convertToInteractive(key) {\n",
              "          const element = document.querySelector('#df-555fcdf8-1283-4ba6-b5f9-89376199805a');\n",
              "          const dataTable =\n",
              "            await google.colab.kernel.invokeFunction('convertToInteractive',\n",
              "                                                     [key], {});\n",
              "          if (!dataTable) return;\n",
              "\n",
              "          const docLinkHtml = 'Like what you see? Visit the ' +\n",
              "            '<a target=\"_blank\" href=https://colab.research.google.com/notebooks/data_table.ipynb>data table notebook</a>'\n",
              "            + ' to learn more about interactive tables.';\n",
              "          element.innerHTML = '';\n",
              "          dataTable['output_type'] = 'display_data';\n",
              "          await google.colab.output.renderOutput(dataTable, element);\n",
              "          const docLink = document.createElement('div');\n",
              "          docLink.innerHTML = docLinkHtml;\n",
              "          element.appendChild(docLink);\n",
              "        }\n",
              "      </script>\n",
              "    </div>\n",
              "  </div>\n",
              "  "
            ]
          },
          "metadata": {},
          "execution_count": 336
        }
      ]
    },
    {
      "cell_type": "markdown",
      "source": [
        "Пример работы модели"
      ],
      "metadata": {
        "id": "tPQKcrKCB3Ps"
      }
    },
    {
      "cell_type": "code",
      "source": [
        "def prep_input_text(text):\n",
        "  text = preprocess_text(text)\n",
        "  text_list = []\n",
        "  text_list.append(text)\n",
        "  sequences = tokenizer.texts_to_sequences(text_list)\n",
        "  pad = pad_sequences(sequences, maxlen=training_length)\n",
        "  return pad\n",
        "  \n",
        "def make_pred(pad):\n",
        "  predictions_single = model.predict(pad)\n",
        "  preds = [predictions_single.argmax()]\n",
        "  return le.inverse_transform(preds)"
      ],
      "metadata": {
        "id": "oBL-lWW3B2HO"
      },
      "execution_count": 337,
      "outputs": []
    },
    {
      "cell_type": "code",
      "source": [
        "inp = 'волшебник'\n",
        "print('Загадайте героя: ', inp)\n",
        "\n",
        "pred = make_pred(prep_input_text(inp))\n",
        "print('Ответ: ', pred)"
      ],
      "metadata": {
        "colab": {
          "base_uri": "https://localhost:8080/"
        },
        "id": "p70T5kPgEP9Y",
        "outputId": "82b6f4ce-9180-41b7-fad8-9cd368df8990"
      },
      "execution_count": 344,
      "outputs": [
        {
          "output_type": "stream",
          "name": "stdout",
          "text": [
            "Загадайте героя:  волшебник\n",
            "Ответ:  ['Гэндальф']\n"
          ]
        }
      ]
    },
    {
      "cell_type": "code",
      "source": [
        "inp = 'моя прелесть'\n",
        "print('Загадайте героя: ', inp)\n",
        "\n",
        "pred = make_pred(prep_input_text(inp))\n",
        "print('Ответ: ', pred)"
      ],
      "metadata": {
        "colab": {
          "base_uri": "https://localhost:8080/"
        },
        "id": "QW66j2SsMgd2",
        "outputId": "4932bbd6-5fa3-45d0-b7ce-e69553d11904"
      },
      "execution_count": 339,
      "outputs": [
        {
          "output_type": "stream",
          "name": "stdout",
          "text": [
            "Загадайте героя:  моя прелесть\n",
            "Ответ:  ['Голлум']\n"
          ]
        }
      ]
    },
    {
      "cell_type": "code",
      "source": [
        "inp = 'уничтожил кольцо'\n",
        "print('Загадайте героя: ', inp)\n",
        "\n",
        "pred = make_pred(prep_input_text(inp))\n",
        "print('Ответ: ', pred)"
      ],
      "metadata": {
        "colab": {
          "base_uri": "https://localhost:8080/"
        },
        "id": "X0A76h645vO3",
        "outputId": "62eadb8b-6965-48ea-984d-21427ca8aa01"
      },
      "execution_count": 349,
      "outputs": [
        {
          "output_type": "stream",
          "name": "stdout",
          "text": [
            "Загадайте героя:  уничтожил кольцо\n",
            "Ответ:  ['Фродо Бэггинс']\n"
          ]
        }
      ]
    },
    {
      "cell_type": "markdown",
      "source": [
        "**Генератор имен**"
      ],
      "metadata": {
        "id": "ITjl2YVe57-d"
      }
    },
    {
      "cell_type": "markdown",
      "source": [
        "Пользователю предлагается задать начальную букву имени, бот в ответ выдаст сгенерированное имя, похожее на эльфийское. Для этой задачи напишем простой алгоритм, который будет основываться на списке имен из Властелина колец и генерировать случайное."
      ],
      "metadata": {
        "id": "C3vhENdk6Dlw"
      }
    },
    {
      "cell_type": "code",
      "source": [
        "# Загружаем данные\n",
        "df3 = pd.read_excel('lotr_names.xlsx')\n",
        "df3.sample(3)"
      ],
      "metadata": {
        "colab": {
          "base_uri": "https://localhost:8080/",
          "height": 143
        },
        "id": "Q_jMYu-J6OJo",
        "outputId": "8e8d3fdf-647a-4d5f-a1d0-28f1cda8b651"
      },
      "execution_count": 54,
      "outputs": [
        {
          "output_type": "execute_result",
          "data": {
            "text/plain": [
              "         name\n",
              "4   Селебриан\n",
              "55  Древобрад\n",
              "19    Фарамир"
            ],
            "text/html": [
              "\n",
              "  <div id=\"df-feb3663f-b876-49d6-b650-331be0a5c112\">\n",
              "    <div class=\"colab-df-container\">\n",
              "      <div>\n",
              "<style scoped>\n",
              "    .dataframe tbody tr th:only-of-type {\n",
              "        vertical-align: middle;\n",
              "    }\n",
              "\n",
              "    .dataframe tbody tr th {\n",
              "        vertical-align: top;\n",
              "    }\n",
              "\n",
              "    .dataframe thead th {\n",
              "        text-align: right;\n",
              "    }\n",
              "</style>\n",
              "<table border=\"1\" class=\"dataframe\">\n",
              "  <thead>\n",
              "    <tr style=\"text-align: right;\">\n",
              "      <th></th>\n",
              "      <th>name</th>\n",
              "    </tr>\n",
              "  </thead>\n",
              "  <tbody>\n",
              "    <tr>\n",
              "      <th>4</th>\n",
              "      <td>Селебриан</td>\n",
              "    </tr>\n",
              "    <tr>\n",
              "      <th>55</th>\n",
              "      <td>Древобрад</td>\n",
              "    </tr>\n",
              "    <tr>\n",
              "      <th>19</th>\n",
              "      <td>Фарамир</td>\n",
              "    </tr>\n",
              "  </tbody>\n",
              "</table>\n",
              "</div>\n",
              "      <button class=\"colab-df-convert\" onclick=\"convertToInteractive('df-feb3663f-b876-49d6-b650-331be0a5c112')\"\n",
              "              title=\"Convert this dataframe to an interactive table.\"\n",
              "              style=\"display:none;\">\n",
              "        \n",
              "  <svg xmlns=\"http://www.w3.org/2000/svg\" height=\"24px\"viewBox=\"0 0 24 24\"\n",
              "       width=\"24px\">\n",
              "    <path d=\"M0 0h24v24H0V0z\" fill=\"none\"/>\n",
              "    <path d=\"M18.56 5.44l.94 2.06.94-2.06 2.06-.94-2.06-.94-.94-2.06-.94 2.06-2.06.94zm-11 1L8.5 8.5l.94-2.06 2.06-.94-2.06-.94L8.5 2.5l-.94 2.06-2.06.94zm10 10l.94 2.06.94-2.06 2.06-.94-2.06-.94-.94-2.06-.94 2.06-2.06.94z\"/><path d=\"M17.41 7.96l-1.37-1.37c-.4-.4-.92-.59-1.43-.59-.52 0-1.04.2-1.43.59L10.3 9.45l-7.72 7.72c-.78.78-.78 2.05 0 2.83L4 21.41c.39.39.9.59 1.41.59.51 0 1.02-.2 1.41-.59l7.78-7.78 2.81-2.81c.8-.78.8-2.07 0-2.86zM5.41 20L4 18.59l7.72-7.72 1.47 1.35L5.41 20z\"/>\n",
              "  </svg>\n",
              "      </button>\n",
              "      \n",
              "  <style>\n",
              "    .colab-df-container {\n",
              "      display:flex;\n",
              "      flex-wrap:wrap;\n",
              "      gap: 12px;\n",
              "    }\n",
              "\n",
              "    .colab-df-convert {\n",
              "      background-color: #E8F0FE;\n",
              "      border: none;\n",
              "      border-radius: 50%;\n",
              "      cursor: pointer;\n",
              "      display: none;\n",
              "      fill: #1967D2;\n",
              "      height: 32px;\n",
              "      padding: 0 0 0 0;\n",
              "      width: 32px;\n",
              "    }\n",
              "\n",
              "    .colab-df-convert:hover {\n",
              "      background-color: #E2EBFA;\n",
              "      box-shadow: 0px 1px 2px rgba(60, 64, 67, 0.3), 0px 1px 3px 1px rgba(60, 64, 67, 0.15);\n",
              "      fill: #174EA6;\n",
              "    }\n",
              "\n",
              "    [theme=dark] .colab-df-convert {\n",
              "      background-color: #3B4455;\n",
              "      fill: #D2E3FC;\n",
              "    }\n",
              "\n",
              "    [theme=dark] .colab-df-convert:hover {\n",
              "      background-color: #434B5C;\n",
              "      box-shadow: 0px 1px 3px 1px rgba(0, 0, 0, 0.15);\n",
              "      filter: drop-shadow(0px 1px 2px rgba(0, 0, 0, 0.3));\n",
              "      fill: #FFFFFF;\n",
              "    }\n",
              "  </style>\n",
              "\n",
              "      <script>\n",
              "        const buttonEl =\n",
              "          document.querySelector('#df-feb3663f-b876-49d6-b650-331be0a5c112 button.colab-df-convert');\n",
              "        buttonEl.style.display =\n",
              "          google.colab.kernel.accessAllowed ? 'block' : 'none';\n",
              "\n",
              "        async function convertToInteractive(key) {\n",
              "          const element = document.querySelector('#df-feb3663f-b876-49d6-b650-331be0a5c112');\n",
              "          const dataTable =\n",
              "            await google.colab.kernel.invokeFunction('convertToInteractive',\n",
              "                                                     [key], {});\n",
              "          if (!dataTable) return;\n",
              "\n",
              "          const docLinkHtml = 'Like what you see? Visit the ' +\n",
              "            '<a target=\"_blank\" href=https://colab.research.google.com/notebooks/data_table.ipynb>data table notebook</a>'\n",
              "            + ' to learn more about interactive tables.';\n",
              "          element.innerHTML = '';\n",
              "          dataTable['output_type'] = 'display_data';\n",
              "          await google.colab.output.renderOutput(dataTable, element);\n",
              "          const docLink = document.createElement('div');\n",
              "          docLink.innerHTML = docLinkHtml;\n",
              "          element.appendChild(docLink);\n",
              "        }\n",
              "      </script>\n",
              "    </div>\n",
              "  </div>\n",
              "  "
            ]
          },
          "metadata": {},
          "execution_count": 54
        }
      ]
    },
    {
      "cell_type": "code",
      "source": [
        "# Разобъем имена на фонемы и создадим словарь по первым буквам\n",
        "\n",
        "fons = {'а': [], 'б': [], 'в': [], 'г': [], 'д': [], 'е': [], 'ё': [], 'ж': [], 'з': [], 'и': [], 'й': [], 'к': [], 'л': [], 'м': [], 'н': [],\n",
        "        'о': [], 'п': [], 'р': [], 'с': [], 'т': [], 'у': [], 'ф': [], 'х': [], 'ц': [], 'ч': [], 'ш': [], 'щ': [], 'ы':[], 'ъ':[], 'ь': [], 'э': [], 'ю': [], 'я': [],\n",
        "        '-': []}\n",
        "\n",
        "for name in df3.name.str.lower().to_list():\n",
        "  #print(name, len(name))\n",
        "  n_min = 0\n",
        "  n_max = len(name)\n",
        "  while n_min != n_max:\n",
        "    fon = name[n_min:n_min+3]\n",
        "    fl = fon[:1]\n",
        "    fons[fl].append(fon)\n",
        "    n_min +=1\n"
      ],
      "metadata": {
        "id": "oJnIjmlT7t9A"
      },
      "execution_count": 55,
      "outputs": []
    },
    {
      "cell_type": "code",
      "source": [
        "def gen_name(letter):\n",
        "  letter = letter.lower()\n",
        "  vars = fons[letter]\n",
        "  r = random.randint(0, len(vars))\n",
        "  name = vars[r]\n",
        "  name_length = random.randint(1, 3)\n",
        "  \n",
        "  while name_length:\n",
        "    \n",
        "    try:\n",
        "      nl = random.choice(list(fons.keys()))[0]\n",
        "      var_nl = fons[nl]\n",
        "      r_nl = random.randint(0, len(var_nl))\n",
        "      name += var_nl[r_nl]\n",
        "    except IndexError:\n",
        "      pass\n",
        "\n",
        "    name_length -= 1\n",
        "\n",
        "  return name.title()"
      ],
      "metadata": {
        "id": "XsjzgqS1-CW_"
      },
      "execution_count": 56,
      "outputs": []
    },
    {
      "cell_type": "code",
      "source": [
        "let = 'о'\n",
        "print('Ваше имя: ', gen_name(let))"
      ],
      "metadata": {
        "colab": {
          "base_uri": "https://localhost:8080/"
        },
        "id": "3D18ipsi-pGF",
        "outputId": "35779a47-1d02-47d5-935e-840d37b7c33e"
      },
      "execution_count": 57,
      "outputs": [
        {
          "output_type": "stream",
          "name": "stdout",
          "text": [
            "Ваше имя:  Орльд\n"
          ]
        }
      ]
    },
    {
      "cell_type": "markdown",
      "source": [
        "**Пишем чат бота**"
      ],
      "metadata": {
        "id": "nzy8m-cC8_Te"
      }
    },
    {
      "cell_type": "code",
      "source": [
        "!pip install pyTelegramBotAPI"
      ],
      "metadata": {
        "colab": {
          "base_uri": "https://localhost:8080/"
        },
        "id": "Qp-UtAx09BjU",
        "outputId": "8e84f8ed-d0cd-4de2-ee33-571ce9d48296"
      },
      "execution_count": 58,
      "outputs": [
        {
          "output_type": "stream",
          "name": "stdout",
          "text": [
            "Looking in indexes: https://pypi.org/simple, https://us-python.pkg.dev/colab-wheels/public/simple/\n",
            "Collecting pyTelegramBotAPI\n",
            "  Downloading pyTelegramBotAPI-4.6.1.tar.gz (209 kB)\n",
            "\u001b[K     |████████████████████████████████| 209 kB 29.2 MB/s \n",
            "\u001b[?25hRequirement already satisfied: requests in /usr/local/lib/python3.7/dist-packages (from pyTelegramBotAPI) (2.23.0)\n",
            "Requirement already satisfied: urllib3!=1.25.0,!=1.25.1,<1.26,>=1.21.1 in /usr/local/lib/python3.7/dist-packages (from requests->pyTelegramBotAPI) (1.24.3)\n",
            "Requirement already satisfied: chardet<4,>=3.0.2 in /usr/local/lib/python3.7/dist-packages (from requests->pyTelegramBotAPI) (3.0.4)\n",
            "Requirement already satisfied: idna<3,>=2.5 in /usr/local/lib/python3.7/dist-packages (from requests->pyTelegramBotAPI) (2.10)\n",
            "Requirement already satisfied: certifi>=2017.4.17 in /usr/local/lib/python3.7/dist-packages (from requests->pyTelegramBotAPI) (2022.6.15)\n",
            "Building wheels for collected packages: pyTelegramBotAPI\n",
            "  Building wheel for pyTelegramBotAPI (setup.py) ... \u001b[?25l\u001b[?25hdone\n",
            "  Created wheel for pyTelegramBotAPI: filename=pyTelegramBotAPI-4.6.1-py3-none-any.whl size=191363 sha256=b40e47a21f59d5b5d8960ef8bb2e190690995d0369175fbd7e1e2315bd003b9e\n",
            "  Stored in directory: /root/.cache/pip/wheels/b0/df/78/4b57335f539e922a1949f23f5c8991b8defafa462d9e74913f\n",
            "Successfully built pyTelegramBotAPI\n",
            "Installing collected packages: pyTelegramBotAPI\n",
            "Successfully installed pyTelegramBotAPI-4.6.1\n"
          ]
        }
      ]
    },
    {
      "cell_type": "code",
      "source": [
        "import telebot\n",
        "from telebot import types"
      ],
      "metadata": {
        "id": "xc5j6FL99BrF"
      },
      "execution_count": 59,
      "outputs": []
    },
    {
      "cell_type": "code",
      "source": [
        "token='5493296466:AAHzZ3E94qK6OZ8jPu4EA9Geu7x_R4AnMFs'"
      ],
      "metadata": {
        "id": "FRorvOc29Bx9"
      },
      "execution_count": 60,
      "outputs": []
    },
    {
      "cell_type": "code",
      "source": [
        "#Базовые сообщения бота\n",
        "\n",
        "welcome_text = 'Приветствую тебя в Средиземье, друг! '\\\n",
        "                'Мы можем просто поболтать о разном, поиграть в игру \"Угадай персонажа\" '\\\n",
        "                'или же я могу придумать тебе новое имя, которому позавидует сам Толкиен. Чем бы ты хотел заняться? '\\\n",
        "\n",
        "back_text = 'Я умею много чего еще. Можем просто поболтать о разном, поиграть в игру \"Угадай персонажа\",'\\\n",
        "               'или же я могу придумать тебе новое имя, которому позавидует сам Толкиен. Чем бы ты хотел заняться? '\n",
        "\n",
        "reply_auto = 'Хорошо, дай мне минутку!'\n",
        "no_reply = 'Извини, кажется я не понял, что ты хочешь. Может попробуем еще раз?'\n",
        "welcome_start = 'Привет-привет, так чем ты хочешь заняться? Я могу просто болтать, играть в угадайку и придумывать имена.'\n",
        "hay_start = 'У меня отлично! Хочешь просто поболтать? Давай представим, что мы в Средиземье - начинай рассказ, я подхвачу'\n",
        "talk_start = 'Хорошо, о чем ты хочешь поболтать?'\n",
        "play_start = 'Отлично, давай сыграем! Загадай героя и напиши мне какой-нибудь факт о нем.'\n",
        "game_start = 'Не вопрос, сейчас придумаем тебе имя! Напиши первую букву будущего имени.'\n",
        "\n",
        "welcome_tok = ['приве', 'здравств', 'расти', 'хай', 'hello', 'hi']\n",
        "talk_tok = ['говор', 'болта', 'расска', 'скаж', 'чат']\n",
        "game_tok = ['игр', 'угада', 'весел']\n",
        "names_tok = ['имя', 'имена', 'назов', 'назва']\n",
        "hay_tok = ['дел', 'как ты', 'как дела', 'как оно', 'как настроение', 'что нового']"
      ],
      "metadata": {
        "id": "38eni5r_9GSR"
      },
      "execution_count": 61,
      "outputs": []
    },
    {
      "cell_type": "code",
      "source": [
        "# Функция получения результата модели \n",
        "# Если ответ модели плох - заменяем его ответом из википедии\n",
        "\n",
        "def get_phrase(text):\n",
        "  resp = get_response(text, ft_index, modelFT.wv, index_map, df)\n",
        "  model_res = resp.answer.values[0]\n",
        "  distance_res = resp[resp.answer == model_res].distance.values\n",
        "  if distance_res == 0.0:\n",
        "    return model_res\n",
        "  else:\n",
        "    wiki_s = wikipedia.search(text)\n",
        "    try:\n",
        "      ans = wikipedia.page(wiki_s[0]).content\n",
        "      wiki_res = tokenizer1.tokenize(ans)[:7]\n",
        "      return wiki_res\n",
        "    \n",
        "    except Exception as e:\n",
        "      return 'Кажется, я не понимаю, о чем ты хочешь поболтать'\n"
      ],
      "metadata": {
        "id": "HbiIGP329VY0"
      },
      "execution_count": 358,
      "outputs": []
    },
    {
      "cell_type": "code",
      "source": [
        "get_phrase('Кто ты, странник?')"
      ],
      "metadata": {
        "colab": {
          "base_uri": "https://localhost:8080/",
          "height": 142
        },
        "id": "KoP-VqXZU00_",
        "outputId": "6b31eeac-4a5d-4b86-f3d0-e2171a3b8e73"
      },
      "execution_count": 359,
      "outputs": [
        {
          "output_type": "stream",
          "name": "stderr",
          "text": [
            "/usr/local/lib/python3.7/dist-packages/wikipedia/wikipedia.py:389: UserWarning: No parser was explicitly specified, so I'm using the best available HTML parser for this system (\"lxml\"). This usually isn't a problem, but if you run this code on another system, or in a different virtual environment, it may use a different parser and behave differently.\n",
            "\n",
            "The code that caused this warning is on line 389 of the file /usr/local/lib/python3.7/dist-packages/wikipedia/wikipedia.py. To get rid of this warning, pass the additional argument 'features=\"lxml\"' to the BeautifulSoup constructor.\n",
            "\n",
            "  lis = BeautifulSoup(html).find_all('li')\n"
          ]
        },
        {
          "output_type": "execute_result",
          "data": {
            "text/plain": [
              "'Кажется, я не понимаю, о чем ты хочешь поболтать'"
            ],
            "application/vnd.google.colaboratory.intrinsic+json": {
              "type": "string"
            }
          },
          "metadata": {},
          "execution_count": 359
        }
      ]
    },
    {
      "cell_type": "code",
      "source": [
        "# Функция получения результата модели \n",
        "def get_answer(text):\n",
        "  return make_pred(prep_input_text(text))"
      ],
      "metadata": {
        "id": "xtNJ0U149Vjy"
      },
      "execution_count": 63,
      "outputs": []
    },
    {
      "cell_type": "code",
      "source": [
        "get_answer('носитель кольца')"
      ],
      "metadata": {
        "colab": {
          "base_uri": "https://localhost:8080/"
        },
        "id": "ANWb8t9pZwTa",
        "outputId": "03ffdbf6-10c1-4f5a-9bfc-e5b7d3639908"
      },
      "execution_count": 64,
      "outputs": [
        {
          "output_type": "execute_result",
          "data": {
            "text/plain": [
              "array(['Том Бомбадил'], dtype=object)"
            ]
          },
          "metadata": {},
          "execution_count": 64
        }
      ]
    },
    {
      "cell_type": "code",
      "source": [
        "# Функция получения результата имени\n",
        "def get_name(text):\n",
        "  return gen_name(text)"
      ],
      "metadata": {
        "id": "TSwPPkuw9dYV"
      },
      "execution_count": 65,
      "outputs": []
    },
    {
      "cell_type": "code",
      "source": [
        "bot=telebot.TeleBot(token)\n",
        "\n",
        "@bot.message_handler(commands=['start'])\n",
        "def start_message(message):\n",
        "    bot.send_message(message.chat.id, welcome_text)\n",
        "\n",
        "@bot.message_handler(commands=['back'])\n",
        "def back_message(message):\n",
        "    bot.send_message(message.chat.id, back_text)\n",
        "\n",
        "@bot.message_handler(content_types=['text'])\n",
        "def get_text_messages(message):\n",
        "    if True in [tok in message.text.lower() for tok in talk_tok]:\n",
        "        bot.send_message(message.from_user.id, talk_start)\n",
        "        bot.register_next_step_handler(message, talk)\n",
        "        \n",
        "    elif True in [tok in message.text.lower() for tok in game_tok]:\n",
        "        bot.send_message(message.from_user.id, play_start)\n",
        "        bot.register_next_step_handler(message, play)\n",
        "        \n",
        "    elif True in [tok in message.text.lower() for tok in names_tok]:\n",
        "        bot.send_message(message.from_user.id, game_start)\n",
        "        bot.register_next_step_handler(message, names)\n",
        "        \n",
        "    elif True in [tok in message.text.lower() for tok in welcome_tok]:\n",
        "        bot.send_message(message.from_user.id, welcome_start)  \n",
        "            \n",
        "    elif True in [tok in message.text.lower() for tok in hay_tok]:\n",
        "        bot.send_message(message.from_user.id, hay_start)\n",
        "        bot.register_next_step_handler(message, talk)\n",
        "        \n",
        "    else:\n",
        "        bot.send_message(message.from_user.id, no_reply)\n",
        "              \n",
        "def talk(message):\n",
        "    inp = message.text\n",
        "    bot.send_message(message.from_user.id, get_phrase(inp))\n",
        "    time.sleep(2)\n",
        "    bot.send_message(message.from_user.id, 'Хочешь продолжить? (да/нет)')\n",
        "    bot.register_next_step_handler(message, choise_talk)\n",
        "    \n",
        "def play(message):\n",
        "    inp = message.text\n",
        "    bot.send_message(message.from_user.id, get_answer(inp))\n",
        "    time.sleep(2)\n",
        "    bot.send_message(message.from_user.id, 'Хочешь продолжить? (да/нет)')\n",
        "    bot.register_next_step_handler(message, choise_play)\n",
        "\n",
        "def names(message):\n",
        "    inp = message.text\n",
        "    bot.send_message(message.from_user.id, get_name(inp))\n",
        "    time.sleep(2)\n",
        "    bot.send_message(message.from_user.id, 'Хочешь продолжить? (да/нет)')\n",
        "    bot.register_next_step_handler(message, choise_names)\n",
        "\n",
        "def choise_talk(message):\n",
        "    inp = message.text\n",
        "    if inp.lower() == 'да':\n",
        "      bot.send_message(message.from_user.id, talk_start)\n",
        "      bot.register_next_step_handler(message, talk)\n",
        "    else:\n",
        "      bot.send_message(message.from_user.id, 'Было приятно пообщаться! Хочешь узнать что я умею еще? Введи команду /back')\n",
        "\n",
        "def choise_play(message):\n",
        "    inp = message.text\n",
        "    if inp.lower() == 'да':\n",
        "      bot.send_message(message.from_user.id, play_start)\n",
        "      bot.register_next_step_handler(message, play)\n",
        "    else:\n",
        "      bot.send_message(message.from_user.id, 'Было приятно поиграть! Хочешь узнать что я умею еще? Введи команду /back')\n",
        "\n",
        "def choise_names(message):\n",
        "    inp = message.text\n",
        "    if inp.lower() == 'да':\n",
        "      bot.send_message(message.from_user.id, game_start)\n",
        "      bot.register_next_step_handler(message, names)\n",
        "    else:\n",
        "      bot.send_message(message.from_user.id, 'Было здорово придумать тебе имя! Хочешь узнать что я умею еще? Введи команду /back')\n",
        "        \n",
        "bot.infinity_polling()"
      ],
      "metadata": {
        "colab": {
          "base_uri": "https://localhost:8080/"
        },
        "id": "jXSqHS7h9GYz",
        "outputId": "8bfcd356-7260-495f-dcea-319d60b63bf2"
      },
      "execution_count": null,
      "outputs": [
        {
          "output_type": "stream",
          "name": "stderr",
          "text": [
            "/usr/local/lib/python3.7/dist-packages/wikipedia/wikipedia.py:389: UserWarning: No parser was explicitly specified, so I'm using the best available HTML parser for this system (\"lxml\"). This usually isn't a problem, but if you run this code on another system, or in a different virtual environment, it may use a different parser and behave differently.\n",
            "\n",
            "The code that caused this warning is on line 389 of the file /usr/local/lib/python3.7/dist-packages/wikipedia/wikipedia.py. To get rid of this warning, pass the additional argument 'features=\"lxml\"' to the BeautifulSoup constructor.\n",
            "\n",
            "  lis = BeautifulSoup(html).find_all('li')\n"
          ]
        }
      ]
    }
  ]
}